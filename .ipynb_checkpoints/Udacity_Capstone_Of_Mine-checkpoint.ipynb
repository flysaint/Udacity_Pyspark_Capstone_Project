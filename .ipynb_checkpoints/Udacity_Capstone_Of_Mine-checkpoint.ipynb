{
 "cells": [
  {
   "cell_type": "markdown",
   "metadata": {},
   "source": [
    "# 思路。CRISP-DM (cross-industry standard process for data mining）跨领域数据挖掘标准流程 \n",
    "## 1.  商业理解（business understanding）。通过用户的行为数据，找到哪些用户最可能流失。\n",
    "## 2. 数据理解（data understanding）。\n",
    "### 2.1 概述观察。先通过pyspark函数计算，得到结果后，直接转置合并。\n",
    "### 2.2 进行图表的绘制。\n",
    "## 3. 数据准备（data preparation）\n",
    "创建更多模型，进行特征工程等\n",
    "## 4. 建模（modeling）\n",
    "进行数据归一化，或者标准化后开始建模\n",
    "## 5. 评估（evaluation）\n",
    "查看模型的效果"
   ]
  },
  {
   "cell_type": "markdown",
   "metadata": {},
   "source": [
    "# 总结\n",
    "## 1. 大致流程。\n",
    "pyspark载入数据 --> 探索数据，计算count后，转换成pandas探查 --> 比如登陆界面次数，占比，听歌数量并画图 --> 创建features，其实也是count后，统一通过userId合并 --> 建模 --> 定义模型，定义搜索参数，定义评估器 --> 训练，并寻找最优参数 --> 使用最优参数重新训练模型 --> 输出最终结果 \n",
    "## 2. 数据探索数据清洗方法。\n",
    "### 2.1 基本方法：\n",
    "```python\n",
    "计数。 count。案例：df_spark.count()\n",
    "筛选。 filter。案例：df_spark = df_spark.filter(df_spark['userId'] != \"\")\n",
    "观察。show()，take()，\n",
    "选择。select。案例：df_spark.select('userId').dropDuplicates().count()\n",
    "去重。dropDuplicats()。同上。\n",
    "转成pd。df.toPandas()。\n",
    "列重命名。withColumnRenamed(newcolname,oldcolname)\n",
    "格式转换。cast()。ft_gender = df_spark.select(\"userId\", col('gender').cast(\"int\"))。\n",
    "查看所有数据类型。df.printSchema().\n",
    "保存数据。df.write.save('df.csv',format = 'csv',head = True)\n",
    "```\n",
    "### 2.2 高阶方法\n",
    "衍射新列. udf(lambda x: funtion,类型)。withColums重命名。\n",
    "```python\n",
    "flag_downgrade_event = udf(lambda x: 1 if x == \"Submit Downgrade\" else 0, IntegerType())\n",
    "df_spark = df_spark.withColumn(\"downgrade_event\", flag_downgrade_event(\"page\"))\n",
    "```\n",
    "取最大最小值。Window, partitionBy()。\n",
    "```python\n",
    "# 对userid求groupby\n",
    "windowval = Window.partitionBy('userId')  \n",
    "# 取每个userId最后一个downgrade_event作为新列 'downgrade'.\n",
    "df_spark = df_spark.withColumn('downgrade', max('downgrade_event').over(windowval)) \n",
    "```\n",
    "DataFrame连接-join()。\n",
    "```python\n",
    "df_page_view_count.join(page_count, df_page_view_count.userId==page_count.userIdbak, \"left\")\n",
    "```\n",
    "### 2.3 sql用法\n",
    "将DataFrame转成 DataBase—createOrReplaceTempView。案例：\n",
    "```python\n",
    "ft_page_view_count.createOrReplaceTempView(\"db_page_view_count\")。\n",
    "```\n",
    "SQL的拼接执行。案例。\n",
    "```python\n",
    "freq_sql = \"select userId\"\n",
    "for page in page_list:\n",
    "    page_name = page.replace(\"count\", \"freq\")\n",
    "    sql_str = \", (\" + page + \"/(count/100)) as \" + page_name\n",
    "    freq_sql = freq_sql + sql_str\n",
    "freq_sql = freq_sql + \" from db_page_view_count\"\n",
    "ft_page_view_proportion  = spark.sql(freq_sql)\n",
    "```\n",
    "## 3. 模型方法\n",
    "### 3.1 数据归一化。 VectorAssembler（特征向量化） +  MinMaxScaler （归一化）\n",
    "案例：\n",
    "``` python\n",
    "def feature_scaling(df):\n",
    "    # 选择要进行向量化 + 标准化的变量\n",
    "    feature_cols = df.drop('userId','churn_double').columns\n",
    "    # 变量向量化\n",
    "    assembler = VectorAssembler(inputCols=feature_cols,outputCol='feature_vector')\n",
    "    # 进行向量化\n",
    "    df = assembler.transform(df)\n",
    "    # 归一化\n",
    "    minmaxscaler = MinMaxScaler(inputCol=\"feature_vector\", outputCol=\"features\")\n",
    "    minmaxscaler_model = minmaxscaler.fit(df)\n",
    "    scaled_df = minmaxscaler_model.transform(df)\n",
    "    scaled_df = scaled_df.select(scaled_df.churn_double.alias('label'),'features')\n",
    "    return scaled_df\n",
    "```\n",
    "### 3.2 模型拟合最优化参数探索\n",
    "\n",
    "```python\n",
    "# 1. 初始化模型\n",
    "lr =  LogisticRegression()\n",
    "# 2. 初始化参数。用于做探索\n",
    "paramGrid = ParamGridBuilder() \\\n",
    "    .addGrid(lr.elasticNetParam,[ 0.5, 1.0]) \\\n",
    "    .addGrid(lr.regParam,[0.05, 0.1]) \\\n",
    "    .build()\n",
    "# 3. 初始化评估器\n",
    "f1_evaluator = MulticlassClassificationEvaluator(metricName='f1')\n",
    "# 4. 进行交叉验证\n",
    "crossval = CrossValidator(estimator=lr,\n",
    "                          estimatorParamMaps=paramGrid,\n",
    "                          evaluator=MulticlassClassificationEvaluator(),\n",
    "                          evaluator=f1_evaluator,\n",
    "                          numFolds=3)\n",
    "# 5. 训练模型\n",
    "cvModel_lr = crossval.fit(trainData)\n",
    "# 6. 查看最优参数\n",
    "cvModel_lr.avgMetrics\n",
    "\n",
    "# 7. 查看最终结果函数定义\n",
    "def show_result(result_final):\n",
    "    evaluator = MulticlassClassificationEvaluator(predictionCol=\"prediction\")\n",
    "    print('Test set metrics:')\n",
    "    print('Accuracy: {}'.format(evaluator.evaluate(result_final, {evaluator.metricName: \"accuracy\"})))\n",
    "    print('F-1 Score:{}'.format(evaluator.evaluate(result_final, {evaluator.metricName: \"f1\"})))\n",
    "\n",
    "# 8. 训练最终模型\n",
    "lr_best = LogisticRegression(elasticNetParam=0.5,regParam = 0.05)\n",
    "lr_best_model = lr_best.fit(trainData)\n",
    "lr_results = lr_best_model.transform(validData)\n",
    "# 9. 输出最终模型结果\n",
    "show_result(lr_results)\n",
    "```\n"
   ]
  },
  {
   "cell_type": "markdown",
   "metadata": {},
   "source": [
    "# 1. Business Understanding\n",
    "When users use the APP, they will leave a lot of behavioral data, such as the interface they have logged in, the songs they have listened to, the songs they like, the songs they hate, and so on.We can find the characteristics of lost users from these behavioral data, analyze the reasons for their loss, and then try to improve the retention rate of users."
   ]
  },
  {
   "cell_type": "markdown",
   "metadata": {},
   "source": [
    "# Sparkify Project Workspace\n",
    "This workspace contains a tiny subset (128MB) of the full dataset available (12GB). Feel free to use this workspace to build your project, or to explore a smaller subset with Spark before deploying your cluster on the cloud. Instructions for setting up your Spark cluster is included in the last lesson of the Extracurricular Spark Course content.\n",
    "\n",
    "You can follow the steps below to guide your data analysis and model building portion of this project."
   ]
  },
  {
   "cell_type": "code",
   "execution_count": 1,
   "metadata": {},
   "outputs": [
    {
     "name": "stdout",
     "output_type": "stream",
     "text": [
      "Waiting for a Spark session to start...\n",
      "Spark Initialization Done! ApplicationId = app-20190226004802-0000\n",
      "KERNEL_ID = b3ceeeb5-aee3-4438-866d-bd9b1fa456d7\n"
     ]
    }
   ],
   "source": [
    "from pyspark.sql import SparkSession\n",
    "from pyspark.sql.functions import avg, col, concat,count, desc, explode, lit, min, max, split, stddev, udf,isnan, when, sort_array, asc, lag, floor\n",
    "from pyspark.sql import Window\n",
    "from pyspark.sql.types import IntegerType, DateType\n",
    "from pyspark.sql.functions import sum as Fsum\n",
    "\n",
    "from pyspark.ml import Pipeline\n",
    "from pyspark.ml.classification import LogisticRegression,RandomForestClassifier, LinearSVC, GBTClassifier\n",
    "from pyspark.ml.evaluation import MulticlassClassificationEvaluator,BinaryClassificationEvaluator\n",
    "from pyspark.ml.feature import CountVectorizer, IDF, Normalizer, PCA, RegexTokenizer, StandardScaler, StopWordsRemover, StringIndexer, VectorAssembler,MinMaxScaler\n",
    "from pyspark.ml.regression import LinearRegression\n",
    "from pyspark.ml.tuning import CrossValidator, ParamGridBuilder\n",
    "from pyspark.sql.types import DoubleType\n",
    "\n",
    "import datetime\n",
    "import re\n",
    "\n",
    "import pandas as pd\n",
    "import numpy as np\n",
    "import matplotlib.pyplot as plt\n",
    "import seaborn as sns"
   ]
  },
  {
   "cell_type": "markdown",
   "metadata": {},
   "source": [
    "# 2. Data Understanding\n"
   ]
  },
  {
   "cell_type": "markdown",
   "metadata": {},
   "source": [
    "# Load and Clean Dataset\n",
    "Clean your dataset, checking for invalid or missing data. For example, records without userids or sessionids. In this workspace, the filename is `mini_sparkify_event_data.json`."
   ]
  },
  {
   "cell_type": "code",
   "execution_count": 2,
   "metadata": {},
   "outputs": [
    {
     "data": {
      "text/plain": [
       "[Row(artist='Martin Orford', auth='Logged In', firstName='Joseph', gender='M', itemInSession=20, lastName='Morales', length=597.55057, level='free', location='Corpus Christi, TX', method='PUT', page='NextSong', registration=1532063507000, sessionId=292, song='Grand Designs', status=200, ts=1538352011000, userAgent='\"Mozilla/5.0 (Macintosh; Intel Mac OS X 10_9_4) AppleWebKit/537.36 (KHTML, like Gecko) Chrome/36.0.1985.125 Safari/537.36\"', userId='293'),\n",
       " Row(artist=\"John Brown's Body\", auth='Logged In', firstName='Sawyer', gender='M', itemInSession=74, lastName='Larson', length=380.21179, level='free', location='Houston-The Woodlands-Sugar Land, TX', method='PUT', page='NextSong', registration=1538069638000, sessionId=97, song='Bulls', status=200, ts=1538352025000, userAgent='\"Mozilla/5.0 (Macintosh; Intel Mac OS X 10_9_4) AppleWebKit/537.36 (KHTML, like Gecko) Chrome/36.0.1985.143 Safari/537.36\"', userId='98'),\n",
       " Row(artist='Afroman', auth='Logged In', firstName='Maverick', gender='M', itemInSession=184, lastName='Santiago', length=202.37016, level='paid', location='Orlando-Kissimmee-Sanford, FL', method='PUT', page='NextSong', registration=1535953455000, sessionId=178, song='Because I Got High', status=200, ts=1538352118000, userAgent='\"Mozilla/5.0 (Macintosh; Intel Mac OS X 10_9_4) AppleWebKit/537.36 (KHTML, like Gecko) Chrome/36.0.1985.143 Safari/537.36\"', userId='179'),\n",
       " Row(artist=None, auth='Logged In', firstName='Maverick', gender='M', itemInSession=185, lastName='Santiago', length=None, level='paid', location='Orlando-Kissimmee-Sanford, FL', method='PUT', page='Logout', registration=1535953455000, sessionId=178, song=None, status=307, ts=1538352119000, userAgent='\"Mozilla/5.0 (Macintosh; Intel Mac OS X 10_9_4) AppleWebKit/537.36 (KHTML, like Gecko) Chrome/36.0.1985.143 Safari/537.36\"', userId='179'),\n",
       " Row(artist='Lily Allen', auth='Logged In', firstName='Gianna', gender='F', itemInSession=22, lastName='Campos', length=194.53342, level='paid', location='Mobile, AL', method='PUT', page='NextSong', registration=1535931018000, sessionId=245, song='Smile (Radio Edit)', status=200, ts=1538352124000, userAgent='Mozilla/5.0 (Windows NT 6.1; WOW64; rv:31.0) Gecko/20100101 Firefox/31.0', userId='246')]"
      ]
     },
     "execution_count": 2,
     "metadata": {},
     "output_type": "execute_result"
    }
   ],
   "source": [
    "import ibmos2spark\n",
    "# @hidden_cell\n",
    "credentials = {\n",
    "    'endpoint': 'https://s3-api.us-geo.objectstorage.service.networklayer.com',\n",
    "    'service_id': 'iam-ServiceId-9b9eab8f-0bde-4b92-b104-d34aeab1cdf6',\n",
    "    'iam_service_endpoint': 'https://iam.bluemix.net/oidc/token',\n",
    "    'api_key': 'JgcZpYUhTBgq4dpgZEGYt8m88AODATROOEbdAQv16rpt'\n",
    "}\n",
    "\n",
    "configuration_name = 'os_21c0332572af4b98b556fb9e269421c9_configs'\n",
    "cos = ibmos2spark.CloudObjectStorage(sc, credentials, configuration_name, 'bluemix_cos')\n",
    "\n",
    "from pyspark.sql import SparkSession\n",
    "spark = SparkSession.builder.getOrCreate()\n",
    "# Since JSON data can be semi-structured and contain additional metadata, it is possible that you might face issues with the DataFrame layout.\n",
    "# Please read the documentation of 'SparkSession.read()' to learn more about the possibilities to adjust the data loading.\n",
    "# PySpark documentation: http://spark.apache.org/docs/2.0.2/api/python/pyspark.sql.html#pyspark.sql.DataFrameReader.json\n",
    "\n",
    "df_data_1 = spark.read.json(cos.url('medium-sparkify-event-data.json', 'udacityconsponepoject-donotdelete-pr-ttedboic8u3ybu'))\n",
    "df_data_1.take(5)"
   ]
  },
  {
   "cell_type": "markdown",
   "metadata": {},
   "source": [
    "# Exploratory Data Analysis\n",
    "When you're working with the full dataset, perform EDA by loading a small subset of the data and doing basic manipulations within Spark. In this workspace, you are already provided a small subset of data you can explore.\n"
   ]
  },
  {
   "cell_type": "code",
   "execution_count": 3,
   "metadata": {},
   "outputs": [
    {
     "data": {
      "text/plain": [
       "543705"
      ]
     },
     "execution_count": 3,
     "metadata": {},
     "output_type": "execute_result"
    }
   ],
   "source": [
    "df_spark = df_data_1\n",
    "df_spark.count()"
   ]
  },
  {
   "cell_type": "code",
   "execution_count": 4,
   "metadata": {},
   "outputs": [
    {
     "data": {
      "text/plain": [
       "528005"
      ]
     },
     "execution_count": 4,
     "metadata": {},
     "output_type": "execute_result"
    }
   ],
   "source": [
    "df_spark = df_spark.filter(df_spark['userId'] != \"\")\n",
    "df_spark.count()"
   ]
  },
  {
   "cell_type": "code",
   "execution_count": 6,
   "metadata": {},
   "outputs": [
    {
     "name": "stdout",
     "output_type": "stream",
     "text": [
      "+--------------------+---------+---------+------+-------------+---------+---------+-----+--------------------+------+---------------+-------------+---------+--------------------+------+-------------+--------------------+------+\n",
      "|              artist|     auth|firstName|gender|itemInSession| lastName|   length|level|            location|method|           page| registration|sessionId|                song|status|           ts|           userAgent|userId|\n",
      "+--------------------+---------+---------+------+-------------+---------+---------+-----+--------------------+------+---------------+-------------+---------+--------------------+------+-------------+--------------------+------+\n",
      "|       Martin Orford|Logged In|   Joseph|     M|           20|  Morales|597.55057| free|  Corpus Christi, TX|   PUT|       NextSong|1532063507000|      292|       Grand Designs|   200|1538352011000|\"Mozilla/5.0 (Mac...|   293|\n",
      "|   John Brown's Body|Logged In|   Sawyer|     M|           74|   Larson|380.21179| free|Houston-The Woodl...|   PUT|       NextSong|1538069638000|       97|               Bulls|   200|1538352025000|\"Mozilla/5.0 (Mac...|    98|\n",
      "|             Afroman|Logged In| Maverick|     M|          184| Santiago|202.37016| paid|Orlando-Kissimmee...|   PUT|       NextSong|1535953455000|      178|  Because I Got High|   200|1538352118000|\"Mozilla/5.0 (Mac...|   179|\n",
      "|                null|Logged In| Maverick|     M|          185| Santiago|     null| paid|Orlando-Kissimmee...|   PUT|         Logout|1535953455000|      178|                null|   307|1538352119000|\"Mozilla/5.0 (Mac...|   179|\n",
      "|          Lily Allen|Logged In|   Gianna|     F|           22|   Campos|194.53342| paid|          Mobile, AL|   PUT|       NextSong|1535931018000|      245|  Smile (Radio Edit)|   200|1538352124000|Mozilla/5.0 (Wind...|   246|\n",
      "|          Carter USM|Logged In|    Sofia|     F|          266|   Gordon|138.29179| paid|       Rochester, MN|   PUT|       NextSong|1533175710000|      162|       Airplane Food|   200|1538352125000|\"Mozilla/5.0 (Mac...|   163|\n",
      "|                null|Logged In| Maverick|     M|          190| Santiago|     null| paid|Orlando-Kissimmee...|   GET|           Home|1535953455000|      178|                null|   200|1538352176000|\"Mozilla/5.0 (Mac...|   179|\n",
      "|           Aerosmith|Logged In|    Lacey|     F|          107|Castaneda|220.39465| free|        El Campo, TX|   PUT|       NextSong|1537536032000|      442|       Walk This Way|   200|1538352215000|\"Mozilla/5.0 (Mac...|   175|\n",
      "|                null|Logged In|    Colin|     M|            0|   Larson|     null| free|Dallas-Fort Worth...|   GET|           Home|1537982255000|      497|                null|   200|1538352241000|Mozilla/5.0 (Wind...|   100|\n",
      "|       Amy Winehouse|Logged In|    Colin|     M|            1|   Larson|201.50812| free|Dallas-Fort Worth...|   PUT|       NextSong|1537982255000|      497|    Teach Me Tonight|   200|1538352259000|Mozilla/5.0 (Wind...|   100|\n",
      "|Drake / Kanye Wes...|Logged In|    Sofia|     F|          267|   Gordon|357.66812| paid|       Rochester, MN|   PUT|       NextSong|1533175710000|      162|             Forever|   200|1538352263000|\"Mozilla/5.0 (Mac...|   163|\n",
      "|           Bob Dylan|Logged In|   Gianna|     F|           23|   Campos|256.96608| paid|          Mobile, AL|   PUT|       NextSong|1535931018000|      245|Simple Twist Of Fate|   200|1538352318000|Mozilla/5.0 (Wind...|   246|\n",
      "|        The Bar-Kays|Logged In| Maverick|     M|          191| Santiago|164.23138| paid|Orlando-Kissimmee...|   PUT|       NextSong|1535953455000|      178|         Montego Bay|   200|1538352320000|\"Mozilla/5.0 (Mac...|   179|\n",
      "|          Black Kids|Logged In|   Payton|     F|           83| Campbell|251.48036| free|Los Angeles-Long ...|   PUT|       NextSong|1529027541000|       38|Look At Me (When ...|   200|1538352323000|\"Mozilla/5.0 (Win...|    39|\n",
      "|                null|Logged In|    Sofia|     F|          268|   Gordon|     null| paid|       Rochester, MN|   GET|      Downgrade|1533175710000|      162|                null|   200|1538352336000|\"Mozilla/5.0 (Mac...|   163|\n",
      "|                null|Logged In| Maverick|     M|          192| Santiago|     null| paid|Orlando-Kissimmee...|   PUT|Add to Playlist|1535953455000|      178|                null|   200|1538352376000|\"Mozilla/5.0 (Mac...|   179|\n",
      "|         Chris Isaak|Logged In|   Sawyer|     M|           75|   Larson|157.67465| free|Houston-The Woodl...|   PUT|       NextSong|1538069638000|       97|Solitary Man (LP ...|   200|1538352405000|\"Mozilla/5.0 (Mac...|    98|\n",
      "|          Crazy Frog|Logged In|    Lacey|     F|          108|Castaneda|169.50812| free|        El Campo, TX|   PUT|       NextSong|1537536032000|      442| Popcorn (Radio Mix)|   200|1538352435000|\"Mozilla/5.0 (Mac...|   175|\n",
      "|                null|Logged In|   Sawyer|     M|           76|   Larson|     null| free|Houston-The Woodl...|   GET|    Roll Advert|1538069638000|       97|                null|   200|1538352435000|\"Mozilla/5.0 (Mac...|    98|\n",
      "|         The Strokes|Logged In|    Colin|     M|            2|   Larson|187.34975| free|Dallas-Fort Worth...|   PUT|       NextSong|1537982255000|      497|  You Only Live Once|   200|1538352460000|Mozilla/5.0 (Wind...|   100|\n",
      "+--------------------+---------+---------+------+-------------+---------+---------+-----+--------------------+------+---------------+-------------+---------+--------------------+------+-------------+--------------------+------+\n",
      "only showing top 20 rows\n",
      "\n"
     ]
    }
   ],
   "source": [
    "df_spark.show()"
   ]
  },
  {
   "cell_type": "code",
   "execution_count": 5,
   "metadata": {},
   "outputs": [
    {
     "data": {
      "text/plain": [
       "448"
      ]
     },
     "execution_count": 5,
     "metadata": {},
     "output_type": "execute_result"
    }
   ],
   "source": [
    "df_spark.select('userId').dropDuplicates().count()"
   ]
  },
  {
   "cell_type": "markdown",
   "metadata": {},
   "source": [
    "## Observed data"
   ]
  },
  {
   "cell_type": "code",
   "execution_count": 4,
   "metadata": {},
   "outputs": [],
   "source": [
    "def df_Value_Summary(df,col_watch,col_value,nhead = 5):\n",
    "    '''\n",
    "    Function: show the freq and the most nhead propotion value of col,and show the value and count of Null \n",
    "    Input:\n",
    "        df: the value count of col dataFrame\n",
    "        col_watch:the watch column\n",
    "        col_value:the value which to be watch by col_watch\n",
    "        nhead:how many most propotion value to show \n",
    "    Output:DataFrame including the freq and the most nhead propotion value of col,and show the value and count of Null \n",
    "\n",
    "    排序还是有些问题，注意检查\n",
    "    '''\n",
    "    tmp = df.select(col_value,col_watch).dropDuplicates().groupby(col_watch).count().toPandas().rename_axis({'count':col_value},axis = 1).sort_values(by = col_value,ascending = False)\n",
    "    \n",
    "    value = pd.DataFrame(['value {}'.format(i) for i in range(nhead)],index = range(nhead)).join(tmp.iloc[:,0],how = 'left').set_index(0).T\n",
    "    \n",
    "    freq = pd.DataFrame(['freq {}'.format(i) for i in range(nhead)],index = range(nhead)).join(tmp.iloc[:,1],how = 'left').set_index(0).T\n",
    "    \n",
    "    freq.index = [col_watch]\n",
    "    \n",
    "    null_count = tmp[tmp[col_watch] != tmp[col_watch]].shape[0]\n",
    "    \n",
    "    if null_count == 0:\n",
    "        nnull = 0\n",
    "    else: \n",
    "        nnull = tmp[tmp[col_watch] != tmp[col_watch]].reset_index().loc[0,col_value]\n",
    "    \n",
    "    freqother = pd.DataFrame([nnull,tmp[col_value].sum() - nnull - freq.sum(axis = 1).sum()],index = ['freqNull','freqOther']).T.rename_axis({0:col_watch})\n",
    "    \n",
    "    freqother.index = [col_watch]\n",
    "    \n",
    "    count_value = pd.DataFrame({'count':[tmp.shape[0]]},index = [col_watch])\n",
    "    \n",
    "    freq_sum = pd.DataFrame({'sum':[np.sum(tmp[col_value])]},index = [col_watch])\n",
    "    \n",
    "    freq_min = pd.DataFrame({'min':[np.min(tmp[col_value])]},index = [col_watch])\n",
    "    \n",
    "    freq_max = pd.DataFrame({'max':[np.max(tmp[col_value])]},index = [col_watch])\n",
    "    \n",
    "    freq_mean = pd.DataFrame({'mean':[np.mean(tmp[col_value])]},index = [col_watch])\n",
    "    \n",
    "    freq_median = pd.DataFrame({'median':[np.median(tmp[col_value])]},index = [col_watch])\n",
    "    \n",
    "    op = pd.concat([count_value,freq_sum,freq_min,freq_max,freq_mean,freq_median,value,freq,freqother],axis = 1)\n",
    "    \n",
    "    return op"
   ]
  },
  {
   "cell_type": "code",
   "execution_count": 7,
   "metadata": {},
   "outputs": [
    {
     "name": "stderr",
     "output_type": "stream",
     "text": [
      "/opt/ibm/conda/miniconda3/lib/python3.5/site-packages/ipykernel/__main__.py:13: FutureWarning: Using 'rename_axis' to alter labels is deprecated. Use '.rename' instead\n",
      "/opt/ibm/conda/miniconda3/lib/python3.5/site-packages/ipykernel/__main__.py:28: FutureWarning: Using 'rename_axis' to alter labels is deprecated. Use '.rename' instead\n"
     ]
    }
   ],
   "source": [
    "col_watch_list = ['artist','auth','firstName','gender','level','location','page','song','status','userAgent']\n",
    "col_value = 'userId'\n",
    "df_watch_All = pd.DataFrame()\n",
    "for col_watch in col_watch_list:\n",
    "    df_watch_summary = df_Value_Summary(df_spark,col_watch,col_value,5)\n",
    "    df_watch_All = pd.concat([df_watch_All,df_watch_summary],axis = 0)"
   ]
  },
  {
   "cell_type": "code",
   "execution_count": 8,
   "metadata": {},
   "outputs": [
    {
     "data": {
      "text/html": [
       "<div>\n",
       "<style scoped>\n",
       "    .dataframe tbody tr th:only-of-type {\n",
       "        vertical-align: middle;\n",
       "    }\n",
       "\n",
       "    .dataframe tbody tr th {\n",
       "        vertical-align: top;\n",
       "    }\n",
       "\n",
       "    .dataframe thead th {\n",
       "        text-align: right;\n",
       "    }\n",
       "</style>\n",
       "<table border=\"1\" class=\"dataframe\">\n",
       "  <thead>\n",
       "    <tr style=\"text-align: right;\">\n",
       "      <th></th>\n",
       "      <th>count</th>\n",
       "      <th>sum</th>\n",
       "      <th>min</th>\n",
       "      <th>max</th>\n",
       "      <th>mean</th>\n",
       "      <th>median</th>\n",
       "      <th>value 0</th>\n",
       "      <th>value 1</th>\n",
       "      <th>value 2</th>\n",
       "      <th>value 3</th>\n",
       "      <th>value 4</th>\n",
       "      <th>freq 0</th>\n",
       "      <th>freq 1</th>\n",
       "      <th>freq 2</th>\n",
       "      <th>freq 3</th>\n",
       "      <th>freq 4</th>\n",
       "      <th>freqNull</th>\n",
       "      <th>freqOther</th>\n",
       "    </tr>\n",
       "  </thead>\n",
       "  <tbody>\n",
       "    <tr>\n",
       "      <th>artist</th>\n",
       "      <td>21248</td>\n",
       "      <td>295671</td>\n",
       "      <td>1</td>\n",
       "      <td>448</td>\n",
       "      <td>13.915239</td>\n",
       "      <td>3.0</td>\n",
       "      <td>Yann Tiersen</td>\n",
       "      <td>Kate Nash</td>\n",
       "      <td>Yonder Mountain String Band</td>\n",
       "      <td>Eva Cassidy</td>\n",
       "      <td>Los Lobos</td>\n",
       "      <td>166.0</td>\n",
       "      <td>115.0</td>\n",
       "      <td>94.0</td>\n",
       "      <td>67.0</td>\n",
       "      <td>62.0</td>\n",
       "      <td>448.0</td>\n",
       "      <td>294719.0</td>\n",
       "    </tr>\n",
       "    <tr>\n",
       "      <th>auth</th>\n",
       "      <td>2</td>\n",
       "      <td>547</td>\n",
       "      <td>99</td>\n",
       "      <td>448</td>\n",
       "      <td>273.500000</td>\n",
       "      <td>273.5</td>\n",
       "      <td>Cancelled</td>\n",
       "      <td>Logged In</td>\n",
       "      <td>NaN</td>\n",
       "      <td>NaN</td>\n",
       "      <td>NaN</td>\n",
       "      <td>99.0</td>\n",
       "      <td>448.0</td>\n",
       "      <td>NaN</td>\n",
       "      <td>NaN</td>\n",
       "      <td>NaN</td>\n",
       "      <td>0.0</td>\n",
       "      <td>0.0</td>\n",
       "    </tr>\n",
       "    <tr>\n",
       "      <th>firstName</th>\n",
       "      <td>345</td>\n",
       "      <td>448</td>\n",
       "      <td>1</td>\n",
       "      <td>7</td>\n",
       "      <td>1.298551</td>\n",
       "      <td>1.0</td>\n",
       "      <td>Maddox</td>\n",
       "      <td>Karter</td>\n",
       "      <td>Grace</td>\n",
       "      <td>Lucas</td>\n",
       "      <td>Irvin</td>\n",
       "      <td>2.0</td>\n",
       "      <td>1.0</td>\n",
       "      <td>2.0</td>\n",
       "      <td>2.0</td>\n",
       "      <td>1.0</td>\n",
       "      <td>0.0</td>\n",
       "      <td>440.0</td>\n",
       "    </tr>\n",
       "    <tr>\n",
       "      <th>gender</th>\n",
       "      <td>2</td>\n",
       "      <td>448</td>\n",
       "      <td>198</td>\n",
       "      <td>250</td>\n",
       "      <td>224.000000</td>\n",
       "      <td>224.0</td>\n",
       "      <td>F</td>\n",
       "      <td>M</td>\n",
       "      <td>NaN</td>\n",
       "      <td>NaN</td>\n",
       "      <td>NaN</td>\n",
       "      <td>198.0</td>\n",
       "      <td>250.0</td>\n",
       "      <td>NaN</td>\n",
       "      <td>NaN</td>\n",
       "      <td>NaN</td>\n",
       "      <td>0.0</td>\n",
       "      <td>0.0</td>\n",
       "    </tr>\n",
       "    <tr>\n",
       "      <th>level</th>\n",
       "      <td>2</td>\n",
       "      <td>691</td>\n",
       "      <td>321</td>\n",
       "      <td>370</td>\n",
       "      <td>345.500000</td>\n",
       "      <td>345.5</td>\n",
       "      <td>free</td>\n",
       "      <td>paid</td>\n",
       "      <td>NaN</td>\n",
       "      <td>NaN</td>\n",
       "      <td>NaN</td>\n",
       "      <td>370.0</td>\n",
       "      <td>321.0</td>\n",
       "      <td>NaN</td>\n",
       "      <td>NaN</td>\n",
       "      <td>NaN</td>\n",
       "      <td>0.0</td>\n",
       "      <td>0.0</td>\n",
       "    </tr>\n",
       "    <tr>\n",
       "      <th>location</th>\n",
       "      <td>192</td>\n",
       "      <td>448</td>\n",
       "      <td>1</td>\n",
       "      <td>30</td>\n",
       "      <td>2.333333</td>\n",
       "      <td>1.0</td>\n",
       "      <td>Gainesville, FL</td>\n",
       "      <td>Atlantic City-Hammonton, NJ</td>\n",
       "      <td>Tucson, AZ</td>\n",
       "      <td>Richmond, VA</td>\n",
       "      <td>Oskaloosa, IA</td>\n",
       "      <td>1.0</td>\n",
       "      <td>2.0</td>\n",
       "      <td>1.0</td>\n",
       "      <td>2.0</td>\n",
       "      <td>1.0</td>\n",
       "      <td>0.0</td>\n",
       "      <td>441.0</td>\n",
       "    </tr>\n",
       "    <tr>\n",
       "      <th>page</th>\n",
       "      <td>19</td>\n",
       "      <td>6013</td>\n",
       "      <td>97</td>\n",
       "      <td>448</td>\n",
       "      <td>316.473684</td>\n",
       "      <td>360.0</td>\n",
       "      <td>Cancel</td>\n",
       "      <td>Submit Downgrade</td>\n",
       "      <td>Thumbs Down</td>\n",
       "      <td>Home</td>\n",
       "      <td>Downgrade</td>\n",
       "      <td>99.0</td>\n",
       "      <td>97.0</td>\n",
       "      <td>389.0</td>\n",
       "      <td>440.0</td>\n",
       "      <td>301.0</td>\n",
       "      <td>0.0</td>\n",
       "      <td>4687.0</td>\n",
       "    </tr>\n",
       "    <tr>\n",
       "      <th>song</th>\n",
       "      <td>80293</td>\n",
       "      <td>382256</td>\n",
       "      <td>1</td>\n",
       "      <td>448</td>\n",
       "      <td>4.760764</td>\n",
       "      <td>2.0</td>\n",
       "      <td>Heaven</td>\n",
       "      <td>Press On</td>\n",
       "      <td>5 Minutes Alone [Live Version]</td>\n",
       "      <td>Crossing Over</td>\n",
       "      <td>Bellydancer feat. Fulanito and Gogol Bordello</td>\n",
       "      <td>114.0</td>\n",
       "      <td>3.0</td>\n",
       "      <td>15.0</td>\n",
       "      <td>9.0</td>\n",
       "      <td>1.0</td>\n",
       "      <td>448.0</td>\n",
       "      <td>381666.0</td>\n",
       "    </tr>\n",
       "    <tr>\n",
       "      <th>status</th>\n",
       "      <td>3</td>\n",
       "      <td>1117</td>\n",
       "      <td>223</td>\n",
       "      <td>448</td>\n",
       "      <td>372.333333</td>\n",
       "      <td>446.0</td>\n",
       "      <td>307</td>\n",
       "      <td>404</td>\n",
       "      <td>200</td>\n",
       "      <td>NaN</td>\n",
       "      <td>NaN</td>\n",
       "      <td>446.0</td>\n",
       "      <td>223.0</td>\n",
       "      <td>448.0</td>\n",
       "      <td>NaN</td>\n",
       "      <td>NaN</td>\n",
       "      <td>0.0</td>\n",
       "      <td>0.0</td>\n",
       "    </tr>\n",
       "    <tr>\n",
       "      <th>userAgent</th>\n",
       "      <td>71</td>\n",
       "      <td>448</td>\n",
       "      <td>1</td>\n",
       "      <td>39</td>\n",
       "      <td>6.309859</td>\n",
       "      <td>3.0</td>\n",
       "      <td>\"Mozilla/5.0 (Macintosh; Intel Mac OS X 10_8_5...</td>\n",
       "      <td>\"Mozilla/5.0 (Windows NT 5.1) AppleWebKit/537....</td>\n",
       "      <td>Mozilla/5.0 (X11; Ubuntu; Linux i686; rv:31.0)...</td>\n",
       "      <td>\"Mozilla/5.0 (Macintosh; Intel Mac OS X 10_9_4...</td>\n",
       "      <td>\"Mozilla/5.0 (Macintosh; Intel Mac OS X 10_9_4...</td>\n",
       "      <td>3.0</td>\n",
       "      <td>6.0</td>\n",
       "      <td>2.0</td>\n",
       "      <td>30.0</td>\n",
       "      <td>3.0</td>\n",
       "      <td>0.0</td>\n",
       "      <td>404.0</td>\n",
       "    </tr>\n",
       "  </tbody>\n",
       "</table>\n",
       "</div>"
      ],
      "text/plain": [
       "           count     sum  min  max        mean  median  \\\n",
       "artist     21248  295671    1  448   13.915239     3.0   \n",
       "auth           2     547   99  448  273.500000   273.5   \n",
       "firstName    345     448    1    7    1.298551     1.0   \n",
       "gender         2     448  198  250  224.000000   224.0   \n",
       "level          2     691  321  370  345.500000   345.5   \n",
       "location     192     448    1   30    2.333333     1.0   \n",
       "page          19    6013   97  448  316.473684   360.0   \n",
       "song       80293  382256    1  448    4.760764     2.0   \n",
       "status         3    1117  223  448  372.333333   446.0   \n",
       "userAgent     71     448    1   39    6.309859     3.0   \n",
       "\n",
       "                                                     value 0  \\\n",
       "artist                                          Yann Tiersen   \n",
       "auth                                               Cancelled   \n",
       "firstName                                             Maddox   \n",
       "gender                                                     F   \n",
       "level                                                   free   \n",
       "location                                     Gainesville, FL   \n",
       "page                                                  Cancel   \n",
       "song                                                  Heaven   \n",
       "status                                                   307   \n",
       "userAgent  \"Mozilla/5.0 (Macintosh; Intel Mac OS X 10_8_5...   \n",
       "\n",
       "                                                     value 1  \\\n",
       "artist                                             Kate Nash   \n",
       "auth                                               Logged In   \n",
       "firstName                                             Karter   \n",
       "gender                                                     M   \n",
       "level                                                   paid   \n",
       "location                         Atlantic City-Hammonton, NJ   \n",
       "page                                        Submit Downgrade   \n",
       "song                                                Press On   \n",
       "status                                                   404   \n",
       "userAgent  \"Mozilla/5.0 (Windows NT 5.1) AppleWebKit/537....   \n",
       "\n",
       "                                                     value 2  \\\n",
       "artist                           Yonder Mountain String Band   \n",
       "auth                                                     NaN   \n",
       "firstName                                              Grace   \n",
       "gender                                                   NaN   \n",
       "level                                                    NaN   \n",
       "location                                          Tucson, AZ   \n",
       "page                                             Thumbs Down   \n",
       "song                          5 Minutes Alone [Live Version]   \n",
       "status                                                   200   \n",
       "userAgent  Mozilla/5.0 (X11; Ubuntu; Linux i686; rv:31.0)...   \n",
       "\n",
       "                                                     value 3  \\\n",
       "artist                                           Eva Cassidy   \n",
       "auth                                                     NaN   \n",
       "firstName                                              Lucas   \n",
       "gender                                                   NaN   \n",
       "level                                                    NaN   \n",
       "location                                        Richmond, VA   \n",
       "page                                                    Home   \n",
       "song                                           Crossing Over   \n",
       "status                                                   NaN   \n",
       "userAgent  \"Mozilla/5.0 (Macintosh; Intel Mac OS X 10_9_4...   \n",
       "\n",
       "                                                     value 4  freq 0  freq 1  \\\n",
       "artist                                             Los Lobos   166.0   115.0   \n",
       "auth                                                     NaN    99.0   448.0   \n",
       "firstName                                              Irvin     2.0     1.0   \n",
       "gender                                                   NaN   198.0   250.0   \n",
       "level                                                    NaN   370.0   321.0   \n",
       "location                                       Oskaloosa, IA     1.0     2.0   \n",
       "page                                               Downgrade    99.0    97.0   \n",
       "song           Bellydancer feat. Fulanito and Gogol Bordello   114.0     3.0   \n",
       "status                                                   NaN   446.0   223.0   \n",
       "userAgent  \"Mozilla/5.0 (Macintosh; Intel Mac OS X 10_9_4...     3.0     6.0   \n",
       "\n",
       "           freq 2  freq 3  freq 4  freqNull  freqOther  \n",
       "artist       94.0    67.0    62.0     448.0   294719.0  \n",
       "auth          NaN     NaN     NaN       0.0        0.0  \n",
       "firstName     2.0     2.0     1.0       0.0      440.0  \n",
       "gender        NaN     NaN     NaN       0.0        0.0  \n",
       "level         NaN     NaN     NaN       0.0        0.0  \n",
       "location      1.0     2.0     1.0       0.0      441.0  \n",
       "page        389.0   440.0   301.0       0.0     4687.0  \n",
       "song         15.0     9.0     1.0     448.0   381666.0  \n",
       "status      448.0     NaN     NaN       0.0        0.0  \n",
       "userAgent     2.0    30.0     3.0       0.0      404.0  "
      ]
     },
     "execution_count": 8,
     "metadata": {},
     "output_type": "execute_result"
    }
   ],
   "source": [
    "# df_watch_All.to_csv('df_watch_All.csv')\n",
    "df_watch_All"
   ]
  },
  {
   "cell_type": "markdown",
   "metadata": {},
   "source": [
    "## Define Churn\n",
    "\n",
    "Once you've done some preliminary analysis, create a column `Churn` to use as the label for your model. I suggest using the `Cancellation Confirmation` events to define your churn, which happen for both paid and free users. As a bonus task, you can also look into the `Downgrade` events."
   ]
  },
  {
   "cell_type": "code",
   "execution_count": 5,
   "metadata": {},
   "outputs": [],
   "source": [
    "# create downgrade label\n",
    "flag_downgrade_event = udf(lambda x: 1 if x == \"Submit Downgrade\" else 0, IntegerType())\n",
    "df_spark = df_spark.withColumn(\"downgrade_event\", flag_downgrade_event(\"page\"))\n",
    "\n",
    "# label user who've ever downgraded\n",
    "windowval = Window.partitionBy('userId')\n",
    "df_spark = df_spark.withColumn('downgrade', max('downgrade_event').over(windowval))\n",
    "\n",
    "# create churn label\n",
    "flag_churn_event = udf(lambda x: 1 if x == 'Cancellation Confirmation' else 0, IntegerType())\n",
    "df_spark = df_spark.withColumn('churn_event', flag_churn_event('page'))\n",
    "\n",
    "# label user who churned\n",
    "windowval = Window.partitionBy('userId')\n",
    "df_spark = df_spark.withColumn('churn', max('churn_event').over(windowval))"
   ]
  },
  {
   "cell_type": "code",
   "execution_count": 11,
   "metadata": {},
   "outputs": [
    {
     "name": "stderr",
     "output_type": "stream",
     "text": [
      "/opt/ibm/conda/miniconda3/lib/python3.5/site-packages/ipykernel/__main__.py:13: FutureWarning: Using 'rename_axis' to alter labels is deprecated. Use '.rename' instead\n",
      "/opt/ibm/conda/miniconda3/lib/python3.5/site-packages/ipykernel/__main__.py:28: FutureWarning: Using 'rename_axis' to alter labels is deprecated. Use '.rename' instead\n"
     ]
    },
    {
     "data": {
      "text/html": [
       "<div>\n",
       "<style scoped>\n",
       "    .dataframe tbody tr th:only-of-type {\n",
       "        vertical-align: middle;\n",
       "    }\n",
       "\n",
       "    .dataframe tbody tr th {\n",
       "        vertical-align: top;\n",
       "    }\n",
       "\n",
       "    .dataframe thead th {\n",
       "        text-align: right;\n",
       "    }\n",
       "</style>\n",
       "<table border=\"1\" class=\"dataframe\">\n",
       "  <thead>\n",
       "    <tr style=\"text-align: right;\">\n",
       "      <th></th>\n",
       "      <th>count</th>\n",
       "      <th>sum</th>\n",
       "      <th>min</th>\n",
       "      <th>max</th>\n",
       "      <th>mean</th>\n",
       "      <th>median</th>\n",
       "      <th>value 0</th>\n",
       "      <th>value 1</th>\n",
       "      <th>value 2</th>\n",
       "      <th>value 3</th>\n",
       "      <th>value 4</th>\n",
       "      <th>freq 0</th>\n",
       "      <th>freq 1</th>\n",
       "      <th>freq 2</th>\n",
       "      <th>freq 3</th>\n",
       "      <th>freq 4</th>\n",
       "      <th>freqNull</th>\n",
       "      <th>freqOther</th>\n",
       "    </tr>\n",
       "  </thead>\n",
       "  <tbody>\n",
       "    <tr>\n",
       "      <th>downgrade_event</th>\n",
       "      <td>2</td>\n",
       "      <td>545</td>\n",
       "      <td>97</td>\n",
       "      <td>448</td>\n",
       "      <td>272.5</td>\n",
       "      <td>272.5</td>\n",
       "      <td>1.0</td>\n",
       "      <td>0.0</td>\n",
       "      <td>NaN</td>\n",
       "      <td>NaN</td>\n",
       "      <td>NaN</td>\n",
       "      <td>97.0</td>\n",
       "      <td>448.0</td>\n",
       "      <td>NaN</td>\n",
       "      <td>NaN</td>\n",
       "      <td>NaN</td>\n",
       "      <td>0.0</td>\n",
       "      <td>0.0</td>\n",
       "    </tr>\n",
       "    <tr>\n",
       "      <th>downgrade</th>\n",
       "      <td>2</td>\n",
       "      <td>448</td>\n",
       "      <td>97</td>\n",
       "      <td>351</td>\n",
       "      <td>224.0</td>\n",
       "      <td>224.0</td>\n",
       "      <td>1.0</td>\n",
       "      <td>0.0</td>\n",
       "      <td>NaN</td>\n",
       "      <td>NaN</td>\n",
       "      <td>NaN</td>\n",
       "      <td>97.0</td>\n",
       "      <td>351.0</td>\n",
       "      <td>NaN</td>\n",
       "      <td>NaN</td>\n",
       "      <td>NaN</td>\n",
       "      <td>0.0</td>\n",
       "      <td>0.0</td>\n",
       "    </tr>\n",
       "    <tr>\n",
       "      <th>churn_event</th>\n",
       "      <td>2</td>\n",
       "      <td>547</td>\n",
       "      <td>99</td>\n",
       "      <td>448</td>\n",
       "      <td>273.5</td>\n",
       "      <td>273.5</td>\n",
       "      <td>1.0</td>\n",
       "      <td>0.0</td>\n",
       "      <td>NaN</td>\n",
       "      <td>NaN</td>\n",
       "      <td>NaN</td>\n",
       "      <td>99.0</td>\n",
       "      <td>448.0</td>\n",
       "      <td>NaN</td>\n",
       "      <td>NaN</td>\n",
       "      <td>NaN</td>\n",
       "      <td>0.0</td>\n",
       "      <td>0.0</td>\n",
       "    </tr>\n",
       "    <tr>\n",
       "      <th>churn</th>\n",
       "      <td>2</td>\n",
       "      <td>448</td>\n",
       "      <td>99</td>\n",
       "      <td>349</td>\n",
       "      <td>224.0</td>\n",
       "      <td>224.0</td>\n",
       "      <td>1.0</td>\n",
       "      <td>0.0</td>\n",
       "      <td>NaN</td>\n",
       "      <td>NaN</td>\n",
       "      <td>NaN</td>\n",
       "      <td>99.0</td>\n",
       "      <td>349.0</td>\n",
       "      <td>NaN</td>\n",
       "      <td>NaN</td>\n",
       "      <td>NaN</td>\n",
       "      <td>0.0</td>\n",
       "      <td>0.0</td>\n",
       "    </tr>\n",
       "  </tbody>\n",
       "</table>\n",
       "</div>"
      ],
      "text/plain": [
       "                 count  sum  min  max   mean  median  value 0  value 1  \\\n",
       "downgrade_event      2  545   97  448  272.5   272.5      1.0      0.0   \n",
       "downgrade            2  448   97  351  224.0   224.0      1.0      0.0   \n",
       "churn_event          2  547   99  448  273.5   273.5      1.0      0.0   \n",
       "churn                2  448   99  349  224.0   224.0      1.0      0.0   \n",
       "\n",
       "                 value 2  value 3  value 4  freq 0  freq 1  freq 2  freq 3  \\\n",
       "downgrade_event      NaN      NaN      NaN    97.0   448.0     NaN     NaN   \n",
       "downgrade            NaN      NaN      NaN    97.0   351.0     NaN     NaN   \n",
       "churn_event          NaN      NaN      NaN    99.0   448.0     NaN     NaN   \n",
       "churn                NaN      NaN      NaN    99.0   349.0     NaN     NaN   \n",
       "\n",
       "                 freq 4  freqNull  freqOther  \n",
       "downgrade_event     NaN       0.0        0.0  \n",
       "downgrade           NaN       0.0        0.0  \n",
       "churn_event         NaN       0.0        0.0  \n",
       "churn               NaN       0.0        0.0  "
      ]
     },
     "execution_count": 11,
     "metadata": {},
     "output_type": "execute_result"
    }
   ],
   "source": [
    "col_watch_list = ['downgrade_event','downgrade','churn_event','churn']\n",
    "col_value = 'userId'\n",
    "df_watch_All = pd.DataFrame()\n",
    "for col_watch in col_watch_list:\n",
    "    df_watch_summary = df_Value_Summary(df_spark,col_watch,col_value,5)\n",
    "    df_watch_All = pd.concat([df_watch_All,df_watch_summary],axis = 0)\n",
    "df_watch_All"
   ]
  },
  {
   "cell_type": "markdown",
   "metadata": {},
   "source": [
    "## Explore Data\n",
    "Once you've defined churn, perform some exploratory data analysis to observe the behavior for users who stayed vs users who churned. You can start by exploring aggregates on these two groups of users, observing how much of a specific action they experienced per a certain time unit or number of songs played."
   ]
  },
  {
   "cell_type": "markdown",
   "metadata": {},
   "source": [
    "### How level influe the use's churn behavior\n",
    "It seems that paying customers seem less susceptible to churn"
   ]
  },
  {
   "cell_type": "code",
   "execution_count": 12,
   "metadata": {},
   "outputs": [
    {
     "name": "stderr",
     "output_type": "stream",
     "text": [
      "/opt/ibm/conda/miniconda3/lib/python3.5/site-packages/seaborn/categorical.py:1508: FutureWarning: remove_na is deprecated and is a private function. Do not use.\n",
      "  stat_data = remove_na(group_data[hue_mask])\n"
     ]
    },
    {
     "data": {
      "image/png": "[encoded data removed]",
      "text/plain": [
       "<matplotlib.figure.Figure at 0x2b7f6c8ed9e8>"
      ]
     },
     "metadata": {},
     "output_type": "display_data"
    }
   ],
   "source": [
    "#  df_spark.select(['churn','level','userId']).dropDuplicates().groupby('level')\n",
    "df_level_pd = df_spark.dropDuplicates([\"userId\", \"level\"]).groupby([\"churn\", \"level\"]).count().sort(\"churn\").toPandas()\n",
    "ax =sns.barplot(x='churn', y='count', hue='level', data=df_level_pd)\n",
    "plt.xlabel('churned')\n",
    "plt.ylabel('Count')\n",
    "plt.legend(title='level', loc='best')\n",
    "sns.despine(ax=ax);"
   ]
  },
  {
   "cell_type": "markdown",
   "metadata": {},
   "source": [
    "### How page  influe the use's churn behavior\n",
    "We just saw what happens to customers who have just upgraded, most likely just to renew, maybe because they just were more active"
   ]
  },
  {
   "cell_type": "code",
   "execution_count": 13,
   "metadata": {},
   "outputs": [
    {
     "data": {
      "text/html": [
       "<div>\n",
       "<style scoped>\n",
       "    .dataframe tbody tr th:only-of-type {\n",
       "        vertical-align: middle;\n",
       "    }\n",
       "\n",
       "    .dataframe tbody tr th {\n",
       "        vertical-align: top;\n",
       "    }\n",
       "\n",
       "    .dataframe thead th {\n",
       "        text-align: right;\n",
       "    }\n",
       "</style>\n",
       "<table border=\"1\" class=\"dataframe\">\n",
       "  <thead>\n",
       "    <tr style=\"text-align: right;\">\n",
       "      <th></th>\n",
       "      <th>page</th>\n",
       "      <th>user_count</th>\n",
       "      <th>churned_user_count</th>\n",
       "      <th>churned_rate</th>\n",
       "    </tr>\n",
       "  </thead>\n",
       "  <tbody>\n",
       "    <tr>\n",
       "      <th>0</th>\n",
       "      <td>Cancel</td>\n",
       "      <td>99</td>\n",
       "      <td>99</td>\n",
       "      <td>1.000000</td>\n",
       "    </tr>\n",
       "    <tr>\n",
       "      <th>1</th>\n",
       "      <td>Cancellation Confirmation</td>\n",
       "      <td>99</td>\n",
       "      <td>99</td>\n",
       "      <td>1.000000</td>\n",
       "    </tr>\n",
       "    <tr>\n",
       "      <th>2</th>\n",
       "      <td>Downgrade</td>\n",
       "      <td>301</td>\n",
       "      <td>74</td>\n",
       "      <td>0.245847</td>\n",
       "    </tr>\n",
       "    <tr>\n",
       "      <th>3</th>\n",
       "      <td>Submit Upgrade</td>\n",
       "      <td>233</td>\n",
       "      <td>55</td>\n",
       "      <td>0.236052</td>\n",
       "    </tr>\n",
       "    <tr>\n",
       "      <th>4</th>\n",
       "      <td>Add Friend</td>\n",
       "      <td>409</td>\n",
       "      <td>95</td>\n",
       "      <td>0.232274</td>\n",
       "    </tr>\n",
       "    <tr>\n",
       "      <th>5</th>\n",
       "      <td>Upgrade</td>\n",
       "      <td>315</td>\n",
       "      <td>73</td>\n",
       "      <td>0.231746</td>\n",
       "    </tr>\n",
       "    <tr>\n",
       "      <th>6</th>\n",
       "      <td>Thumbs Down</td>\n",
       "      <td>389</td>\n",
       "      <td>89</td>\n",
       "      <td>0.228792</td>\n",
       "    </tr>\n",
       "    <tr>\n",
       "      <th>7</th>\n",
       "      <td>Roll Advert</td>\n",
       "      <td>395</td>\n",
       "      <td>90</td>\n",
       "      <td>0.227848</td>\n",
       "    </tr>\n",
       "    <tr>\n",
       "      <th>8</th>\n",
       "      <td>Help</td>\n",
       "      <td>360</td>\n",
       "      <td>81</td>\n",
       "      <td>0.225000</td>\n",
       "    </tr>\n",
       "    <tr>\n",
       "      <th>9</th>\n",
       "      <td>Thumbs Up</td>\n",
       "      <td>439</td>\n",
       "      <td>98</td>\n",
       "      <td>0.223235</td>\n",
       "    </tr>\n",
       "    <tr>\n",
       "      <th>10</th>\n",
       "      <td>Settings</td>\n",
       "      <td>379</td>\n",
       "      <td>84</td>\n",
       "      <td>0.221636</td>\n",
       "    </tr>\n",
       "    <tr>\n",
       "      <th>11</th>\n",
       "      <td>NextSong</td>\n",
       "      <td>448</td>\n",
       "      <td>99</td>\n",
       "      <td>0.220982</td>\n",
       "    </tr>\n",
       "    <tr>\n",
       "      <th>12</th>\n",
       "      <td>Logout</td>\n",
       "      <td>426</td>\n",
       "      <td>94</td>\n",
       "      <td>0.220657</td>\n",
       "    </tr>\n",
       "    <tr>\n",
       "      <th>13</th>\n",
       "      <td>Home</td>\n",
       "      <td>440</td>\n",
       "      <td>97</td>\n",
       "      <td>0.220455</td>\n",
       "    </tr>\n",
       "    <tr>\n",
       "      <th>14</th>\n",
       "      <td>Add to Playlist</td>\n",
       "      <td>428</td>\n",
       "      <td>94</td>\n",
       "      <td>0.219626</td>\n",
       "    </tr>\n",
       "    <tr>\n",
       "      <th>15</th>\n",
       "      <td>Submit Downgrade</td>\n",
       "      <td>97</td>\n",
       "      <td>21</td>\n",
       "      <td>0.216495</td>\n",
       "    </tr>\n",
       "    <tr>\n",
       "      <th>16</th>\n",
       "      <td>About</td>\n",
       "      <td>291</td>\n",
       "      <td>61</td>\n",
       "      <td>0.209622</td>\n",
       "    </tr>\n",
       "    <tr>\n",
       "      <th>17</th>\n",
       "      <td>Save Settings</td>\n",
       "      <td>242</td>\n",
       "      <td>49</td>\n",
       "      <td>0.202479</td>\n",
       "    </tr>\n",
       "    <tr>\n",
       "      <th>18</th>\n",
       "      <td>Error</td>\n",
       "      <td>223</td>\n",
       "      <td>40</td>\n",
       "      <td>0.179372</td>\n",
       "    </tr>\n",
       "  </tbody>\n",
       "</table>\n",
       "</div>"
      ],
      "text/plain": [
       "                         page  user_count  churned_user_count  churned_rate\n",
       "0                      Cancel          99                  99      1.000000\n",
       "1   Cancellation Confirmation          99                  99      1.000000\n",
       "2                   Downgrade         301                  74      0.245847\n",
       "3              Submit Upgrade         233                  55      0.236052\n",
       "4                  Add Friend         409                  95      0.232274\n",
       "5                     Upgrade         315                  73      0.231746\n",
       "6                 Thumbs Down         389                  89      0.228792\n",
       "7                 Roll Advert         395                  90      0.227848\n",
       "8                        Help         360                  81      0.225000\n",
       "9                   Thumbs Up         439                  98      0.223235\n",
       "10                   Settings         379                  84      0.221636\n",
       "11                   NextSong         448                  99      0.220982\n",
       "12                     Logout         426                  94      0.220657\n",
       "13                       Home         440                  97      0.220455\n",
       "14            Add to Playlist         428                  94      0.219626\n",
       "15           Submit Downgrade          97                  21      0.216495\n",
       "16                      About         291                  61      0.209622\n",
       "17              Save Settings         242                  49      0.202479\n",
       "18                      Error         223                  40      0.179372"
      ]
     },
     "execution_count": 13,
     "metadata": {},
     "output_type": "execute_result"
    }
   ],
   "source": [
    "df_churn_pd = df_spark.dropDuplicates(['userId', 'churn', 'page']).groupby(['churn', 'page']).count().toPandas()\n",
    "df_churn_pd = df_churn_pd.sort_values(by = ['page','churn'],ascending = False)\n",
    "df_churn_pd\n",
    "\n",
    "group1= df_churn_pd.groupby(['page','churn']).sum().reset_index()\n",
    "\n",
    "group2= df_churn_pd.groupby(['page']).sum().reset_index()\n",
    "\n",
    "p=pd.merge(group1,group2,how='outer',on='page')\n",
    "\n",
    "p['user_count'] = p['count_y']\n",
    "\n",
    "p['churned_user_count'] = p['count_x']\n",
    "p['churned_rate'] = p['churned_user_count']/p['user_count']\n",
    "\n",
    "p[p['churn_x'] == 1][['page','user_count','churned_user_count','churned_rate']].sort_values(by = 'churned_rate',ascending = False).reset_index().drop(['index'],axis = 1)"
   ]
  },
  {
   "cell_type": "markdown",
   "metadata": {},
   "source": [
    "### How number of songs the use listen to influence  uses' churned behavior\n",
    "We can find the that the uses who churn listen less song than the uses who haven't churn."
   ]
  },
  {
   "cell_type": "code",
   "execution_count": 52,
   "metadata": {},
   "outputs": [
    {
     "name": "stderr",
     "output_type": "stream",
     "text": [
      "/opt/ibm/conda/miniconda3/lib/python3.5/site-packages/seaborn/categorical.py:1460: FutureWarning: remove_na is deprecated and is a private function. Do not use.\n",
      "  stat_data = remove_na(group_data)\n"
     ]
    },
    {
     "data": {
      "image/png": "[encoded data removed]",
      "text/plain": [
       "<matplotlib.figure.Figure at 0x2b7f6cc497f0>"
      ]
     },
     "metadata": {},
     "output_type": "display_data"
    }
   ],
   "source": [
    "df_song_pd = df_spark.dropDuplicates(['userId', 'churn', 'song']).groupby(['churn']).count().toPandas()\n",
    "\n",
    "df_churn_pd = df_spark.dropDuplicates(['userId', 'churn']).groupby(['churn']).count().toPandas()\n",
    "\n",
    "df_song_pd['avg_song_count'] = df_song_pd['count']/df_churn_pd['count']\n",
    "\n",
    "ax = sns.barplot(data=df_song_pd, x='churn', y='avg_song_count') \n",
    "plt.xlabel('Wheather use churned')\n",
    "plt.ylabel('Listen song count')\n",
    "sns.despine(ax=ax);"
   ]
  },
  {
   "cell_type": "markdown",
   "metadata": {},
   "source": [
    "### How the number of session influence uses' churned behavior\n",
    "We can find the that the uses who churn listen less session than the uses who haven't churn."
   ]
  },
  {
   "cell_type": "code",
   "execution_count": 58,
   "metadata": {},
   "outputs": [
    {
     "name": "stderr",
     "output_type": "stream",
     "text": [
      "/opt/ibm/conda/miniconda3/lib/python3.5/site-packages/seaborn/categorical.py:1460: FutureWarning: remove_na is deprecated and is a private function. Do not use.\n",
      "  stat_data = remove_na(group_data)\n"
     ]
    },
    {
     "data": {
      "image/png": "[encoded data removed]",
      "text/plain": [
       "<matplotlib.figure.Figure at 0x2b7f6ccacd68>"
      ]
     },
     "metadata": {},
     "output_type": "display_data"
    }
   ],
   "source": [
    "df_session_pd = df_spark.dropDuplicates(['userId', 'churn', 'sessionId']).groupby(['churn']).count().toPandas()\n",
    "\n",
    "df_session_pd['session_count'] = df_session_pd['count']/df_churn_pd['count']\n",
    "\n",
    "ax = sns.barplot(data=df_session_pd, x='churn', y='session_count')\n",
    "plt.xlabel('Wheather use churned')\n",
    "plt.ylabel('Session count')\n",
    "sns.despine(ax=ax);"
   ]
  },
  {
   "cell_type": "markdown",
   "metadata": {},
   "source": [
    "### How dose the average number of songs that users listen to in each session influence users' churned behavior\n",
    "We see no significant difference, so this will not be used as a feature later"
   ]
  },
  {
   "cell_type": "code",
   "execution_count": 16,
   "metadata": {},
   "outputs": [
    {
     "name": "stderr",
     "output_type": "stream",
     "text": [
      "/opt/ibm/conda/miniconda3/lib/python3.5/site-packages/seaborn/categorical.py:598: FutureWarning: remove_na is deprecated and is a private function. Do not use.\n",
      "  kde_data = remove_na(group_data)\n",
      "/opt/ibm/conda/miniconda3/lib/python3.5/site-packages/seaborn/categorical.py:826: FutureWarning: remove_na is deprecated and is a private function. Do not use.\n",
      "  violin_data = remove_na(group_data)\n"
     ]
    },
    {
     "data": {
      "image/png": "[encoded data removed]",
      "text/plain": [
       "<matplotlib.figure.Figure at 0x2b7f6cd2e198>"
      ]
     },
     "metadata": {},
     "output_type": "display_data"
    }
   ],
   "source": [
    "df_song_session_pd = df_spark.where('page == \"NextSong\"').groupby(['churn', 'userId', 'sessionId']).count()\\\n",
    "    .groupby(['churn', 'userId']).agg({'count':'avg'})\\\n",
    "    .withColumnRenamed('avg(count)', 'song_count_session')\\\n",
    "    .toPandas()\n",
    "\n",
    "ax = sns.violinplot(x = 'churn', y='song_count_session', data = df_song_session_pd)\n",
    "plt.xlabel('Weather use churned?')\n",
    "plt.ylabel('Average songs played per session')\n",
    "sns.despine(ax=ax);"
   ]
  },
  {
   "cell_type": "markdown",
   "metadata": {},
   "source": [
    "### The influence of user life cycle on whether users are churned or not\n",
    "We can find  significantly that the chunrd users have shorter lives than the uses who havn't chunred."
   ]
  },
  {
   "cell_type": "code",
   "execution_count": 19,
   "metadata": {},
   "outputs": [
    {
     "name": "stderr",
     "output_type": "stream",
     "text": [
      "/opt/ibm/conda/miniconda3/lib/python3.5/site-packages/seaborn/categorical.py:462: FutureWarning: remove_na is deprecated and is a private function. Do not use.\n",
      "  box_data = remove_na(group_data)\n"
     ]
    },
    {
     "data": {
      "image/png": "[encoded data removed]",
      "text/plain": [
       "<matplotlib.figure.Figure at 0x2b7f6c9a6898>"
      ]
     },
     "metadata": {},
     "output_type": "display_data"
    }
   ],
   "source": [
    "df_lifetime_pd = df_spark \\\n",
    "    .select('userId','registration','ts','churn') \\\n",
    "    .withColumn('lifetime',(df_spark.ts-df_spark.registration)) \\\n",
    "    .groupBy('userId','churn') \\\n",
    "    .agg({'lifetime':'max'}) \\\n",
    "    .withColumnRenamed('max(lifetime)','lifetime') \\\n",
    "    .select('userId', 'churn', (col('lifetime')/86400000).alias('lifetime')) \\\n",
    "    .toPandas()\n",
    "\n",
    "ax = sns.boxplot(data=df_lifetime_pd, y='churn', x='lifetime', orient='h')\n",
    "plt.xlabel('use life time')\n",
    "plt.ylabel('Wheather uses churned')\n",
    "sns.despine(ax=ax);"
   ]
  },
  {
   "cell_type": "markdown",
   "metadata": {},
   "source": [
    "# 3. Data Preparation"
   ]
  },
  {
   "cell_type": "markdown",
   "metadata": {},
   "source": [
    "# Feature Engineering\n",
    "Once you've familiarized yourself with the data, build out the features you find promising to train your model on. To work with the full dataset, you can follow the following steps.\n",
    "- Write a script to extract the necessary features from the smaller subset of data\n",
    "- Ensure that your script is scalable, using the best practices discussed in Lesson 3\n",
    "- Try your script on the full data set, debugging your script if necessary\n",
    "\n",
    "If you are working in the classroom workspace, you can just extract features based on the small subset of data contained here. Be sure to transfer over this work to the larger dataset when you work on your Spark cluster."
   ]
  },
  {
   "cell_type": "markdown",
   "metadata": {},
   "source": [
    "## Feature 1: user paid level\n"
   ]
  },
  {
   "cell_type": "code",
   "execution_count": 6,
   "metadata": {},
   "outputs": [],
   "source": [
    "user_paid = df_spark.groupby(\"userId\", \"level\").agg(max(df_spark.ts).alias(\"lastTime\"))\n",
    "user_last_level_time = user_paid.groupby(\"userId\").agg(max(user_paid.lastTime).alias(\"lastTime\"))\n",
    "user_last_level = user_last_level_time.join(user_paid, [user_paid.userId == user_last_level_time.userId, user_last_level_time.lastTime == user_paid.lastTime]).select(user_paid.userId, \"level\")\n",
    "user_last_level = user_last_level.replace([\"free\", \"paid\"], [\"0\", \"1\"], \"level\")\n",
    "ft_last_level = user_last_level.select(\"userId\", user_last_level.level.cast(\"int\"))"
   ]
  },
  {
   "cell_type": "code",
   "execution_count": 12,
   "metadata": {},
   "outputs": [
    {
     "name": "stdout",
     "output_type": "stream",
     "text": [
      "+------+-----+\n",
      "|userId|level|\n",
      "+------+-----+\n",
      "|    12|    1|\n",
      "|   147|    0|\n",
      "|   162|    1|\n",
      "|200028|    1|\n",
      "|   238|    1|\n",
      "+------+-----+\n",
      "only showing top 5 rows\n",
      "\n"
     ]
    }
   ],
   "source": [
    "ft_last_level.show(5)"
   ]
  },
  {
   "cell_type": "markdown",
   "metadata": {},
   "source": [
    "## Feature 2: user page visit count"
   ]
  },
  {
   "cell_type": "code",
   "execution_count": 7,
   "metadata": {},
   "outputs": [],
   "source": [
    "# get all the type of page\n",
    "page_list = [(row['page']) for row in df_spark.select(\"page\").dropDuplicates().collect()]\n",
    "\n",
    "# must remove the column which will cause data leakage\n",
    "page_list.remove(\"Cancel\")\n",
    "\n",
    "page_list.remove(\"Cancellation Confirmation\")\n",
    "\n",
    "# caculate the total page each user view\n",
    "df_page_view_count = df_spark.groupby(\"userId\").count()\n",
    "\n",
    "for page in page_list:\n",
    "    col_name = \"count_\" + page.replace(\" \", \"_\")\n",
    "    page_count = df_spark.filter(df_spark.page==page).groupby(\"userId\").count()\n",
    "    page_count = page_count.withColumnRenamed(\"count\", col_name).withColumnRenamed(\"userId\", \"userIdbak\")\n",
    "    df_page_view_count = df_page_view_count.join(page_count, df_page_view_count.userId==page_count.userIdbak, \"left\").drop(\"userIdbak\")\n",
    "ft_page_view_count = df_page_view_count.fillna(0)"
   ]
  },
  {
   "cell_type": "code",
   "execution_count": 14,
   "metadata": {},
   "outputs": [
    {
     "name": "stdout",
     "output_type": "stream",
     "text": [
      "+------+-----+----------------------+-----------------+----------+---------------+-----------------+------------+-------------------+-----------+--------------+---------------------+----------------+--------------+---------------+----------+-------------+-----------+--------------------+\n",
      "|userId|count|count_Submit_Downgrade|count_Thumbs_Down|count_Home|count_Downgrade|count_Roll_Advert|count_Logout|count_Save_Settings|count_About|count_Settings|count_Add_to_Playlist|count_Add_Friend|count_NextSong|count_Thumbs_Up|count_Help|count_Upgrade|count_Error|count_Submit_Upgrade|\n",
      "+------+-----+----------------------+-----------------+----------+---------------+-----------------+------------+-------------------+-----------+--------------+---------------------+----------------+--------------+---------------+----------+-------------+-----------+--------------------+\n",
      "|100010|  137|                     0|                3|         3|              0|               22|           1|                  0|          0|             0|                    1|               3|            96|              4|         0|            2|          0|                   0|\n",
      "|200002|  395|                     0|                5|        23|              3|               11|          11|                  0|          1|             2|                    6|               2|           310|             15|         1|            2|          0|                   1|\n",
      "|   296|  152|                     0|                0|         7|              1|                9|           3|                  0|          0|             1|                    3|               2|           112|              8|         2|            1|          0|                   1|\n",
      "|   125|   84|                     0|                1|         2|              0|                6|           0|                  0|          0|             3|                    2|               3|            62|              3|         2|            0|          0|                   0|\n",
      "|   124| 2156|                     0|               15|        70|             21|                1|          17|                  3|          3|            15|                   45|              26|          1826|            102|        10|            0|          0|                   0|\n",
      "+------+-----+----------------------+-----------------+----------+---------------+-----------------+------------+-------------------+-----------+--------------+---------------------+----------------+--------------+---------------+----------+-------------+-----------+--------------------+\n",
      "only showing top 5 rows\n",
      "\n"
     ]
    }
   ],
   "source": [
    "ft_page_view_count.show(5)"
   ]
  },
  {
   "cell_type": "markdown",
   "metadata": {},
   "source": [
    "## Feature 3: user page visit proportion "
   ]
  },
  {
   "cell_type": "code",
   "execution_count": 10,
   "metadata": {},
   "outputs": [],
   "source": [
    "# 创建视图\n",
    "ft_page_view_count.createOrReplaceTempView(\"db_page_view_count\")\n",
    "page_list = ft_page_view_count.columns\n",
    "page_list.remove(\"userId\")\n",
    "page_list.remove(\"count\")\n",
    "freq_sql = \"select userId\"\n",
    "for page in page_list:\n",
    "    page_name = page.replace(\"count\", \"freq\")\n",
    "    sql_str = \", (\" + page + \"/(count/100)) as \" + page_name\n",
    "    freq_sql = freq_sql + sql_str\n",
    "freq_sql = freq_sql + \" from db_page_view_count\"\n",
    "\n",
    "ft_page_view_proportion  = spark.sql(freq_sql)"
   ]
  },
  {
   "cell_type": "code",
   "execution_count": 51,
   "metadata": {},
   "outputs": [
    {
     "name": "stdout",
     "output_type": "stream",
     "text": [
      "+------+---------------------+-------------------+------------------+-------------------+-------------------+------------------+-------------------+-------------------+-------------------+--------------------+------------------+-----------------+------------------+-------------------+-------------------+-------------------+-------------------+\n",
      "|userId|freq_Submit_Downgrade|   freq_Thumbs_Down|         freq_Home|     freq_Downgrade|   freq_Roll_Advert|       freq_Logout| freq_Save_Settings|         freq_About|      freq_Settings|freq_Add_to_Playlist|   freq_Add_Friend|    freq_NextSong|    freq_Thumbs_Up|          freq_Help|       freq_Upgrade|         freq_Error|freq_Submit_Upgrade|\n",
      "+------+---------------------+-------------------+------------------+-------------------+-------------------+------------------+-------------------+-------------------+-------------------+--------------------+------------------+-----------------+------------------+-------------------+-------------------+-------------------+-------------------+\n",
      "|    10|                  0.0|0.23640661938534277|3.5460992907801416|0.23640661938534277|                0.0|0.9456264775413711|                0.0|                0.0|0.47281323877068554|  3.3096926713947985|0.7092198581560283| 85.1063829787234|4.0189125295508275| 0.7092198581560283|                0.0|0.23640661938534277|                0.0|\n",
      "|   100|                  0.0| 0.9252313078269567|3.3758439609902475| 1.0002500625156288|0.20005001250312576| 0.900225056264066|0.05001250312578144|0.30007501875468867|0.42510627656914224|  2.3505876469117277|1.7754438609652412|84.57114278569642|3.5758939734933732|0.42510627656914224|0.02500625156289072|0.07501875468867217|0.02500625156289072|\n",
      "|100001|                  0.0| 0.7462686567164178|2.9850746268656714|                0.0|  9.701492537313433|1.4925373134328357|                0.0| 0.7462686567164178| 2.2388059701492535|  2.2388059701492535|0.7462686567164178|71.64179104477611| 3.731343283582089| 0.7462686567164178| 1.4925373134328357|                0.0|                0.0|\n",
      "|100002|   0.5649717514124294| 1.1299435028248588| 6.779661016949152| 1.1299435028248588|  2.824858757062147| 1.694915254237288|                0.0|                0.0|                0.0|   1.694915254237288|               0.0|77.40112994350282| 4.519774011299435| 1.1299435028248588| 0.5649717514124294|                0.0| 0.5649717514124294|\n",
      "|100003|                  0.0| 1.2091898428053205|3.7484885126964937| 1.5719467956469166|  4.957678355501814|1.4510278113663846|0.12091898428053205| 0.2418379685610641| 0.4836759371221282|   2.297460701330109|0.9673518742442564|79.92744860943168|1.9347037484885128|0.36275695284159615| 0.2418379685610641|0.12091898428053205|0.12091898428053205|\n",
      "+------+---------------------+-------------------+------------------+-------------------+-------------------+------------------+-------------------+-------------------+-------------------+--------------------+------------------+-----------------+------------------+-------------------+-------------------+-------------------+-------------------+\n",
      "only showing top 5 rows\n",
      "\n"
     ]
    }
   ],
   "source": [
    "ft_page_view_proportion.show(5)"
   ]
  },
  {
   "cell_type": "markdown",
   "metadata": {},
   "source": [
    "## Feature 4: how many singers have the user heard"
   ]
  },
  {
   "cell_type": "code",
   "execution_count": 11,
   "metadata": {},
   "outputs": [
    {
     "name": "stdout",
     "output_type": "stream",
     "text": [
      "+------+----------+\n",
      "|userId|song_count|\n",
      "+------+----------+\n",
      "|100010|        97|\n",
      "|200002|       307|\n",
      "|   296|       110|\n",
      "|   125|        63|\n",
      "|   124|      1612|\n",
      "+------+----------+\n",
      "only showing top 5 rows\n",
      "\n"
     ]
    }
   ],
   "source": [
    "ft_song_count = df_spark.dropDuplicates(['userId', 'churn', 'song']).groupby(['userId']).count().withColumnRenamed('count', 'song_count')\n",
    "ft_song_count.show(5)"
   ]
  },
  {
   "cell_type": "markdown",
   "metadata": {},
   "source": [
    "## Feature 5: user session count"
   ]
  },
  {
   "cell_type": "code",
   "execution_count": 12,
   "metadata": {},
   "outputs": [
    {
     "name": "stdout",
     "output_type": "stream",
     "text": [
      "+------+-------------+\n",
      "|userId|session_count|\n",
      "+------+-------------+\n",
      "|100010|            2|\n",
      "|200002|            5|\n",
      "|   296|            5|\n",
      "|   125|            3|\n",
      "|   124|           17|\n",
      "+------+-------------+\n",
      "only showing top 5 rows\n",
      "\n"
     ]
    }
   ],
   "source": [
    "ft_session_count = df_spark.dropDuplicates(['userId', 'churn', 'sessionId']).groupby(['userId']).count().withColumnRenamed('count', 'session_count')\n",
    "ft_session_count.show(5)"
   ]
  },
  {
   "cell_type": "markdown",
   "metadata": {},
   "source": [
    "## Feature 6: The average number of songs t in  session "
   ]
  },
  {
   "cell_type": "code",
   "execution_count": 13,
   "metadata": {},
   "outputs": [
    {
     "name": "stdout",
     "output_type": "stream",
     "text": [
      "+------+------------------+\n",
      "|userId|song_count_session|\n",
      "+------+------------------+\n",
      "|100010|              48.0|\n",
      "|200002|              62.0|\n",
      "|   296|              22.4|\n",
      "|   125|20.666666666666668|\n",
      "|   124|           114.125|\n",
      "+------+------------------+\n",
      "only showing top 5 rows\n",
      "\n"
     ]
    }
   ],
   "source": [
    "ft_song_session = df_spark.where('page == \"NextSong\"').groupby(['churn', 'userId', 'sessionId']).count()\\\n",
    "    .groupby(['userId']).agg({'count':'avg'})\\\n",
    "    .withColumnRenamed('avg(count)', 'song_count_session')\\\n",
    "\n",
    "ft_song_session.show(5)"
   ]
  },
  {
   "cell_type": "markdown",
   "metadata": {},
   "source": [
    "## Feature 7 user registration days"
   ]
  },
  {
   "cell_type": "code",
   "execution_count": 14,
   "metadata": {},
   "outputs": [],
   "source": [
    "ft_lifetime = df_spark \\\n",
    "    .select('userId','registration','ts') \\\n",
    "    .withColumn('lifetime',(df_spark.ts-df_spark.registration)) \\\n",
    "    .groupBy('userId') \\\n",
    "    .agg({'lifetime':'max'}) \\\n",
    "    .withColumnRenamed('max(lifetime)','lifetime') \\\n",
    "    .select('userId', (col('lifetime')/86400000).alias('lifetime'))"
   ]
  },
  {
   "cell_type": "code",
   "execution_count": 88,
   "metadata": {},
   "outputs": [
    {
     "name": "stdout",
     "output_type": "stream",
     "text": [
      "+------+------------------+\n",
      "|userId|          lifetime|\n",
      "+------+------------------+\n",
      "|   296| 26.63826388888889|\n",
      "|100010|14.328449074074074|\n",
      "|200002| 53.32314814814815|\n",
      "|   125|105.42211805555556|\n",
      "|   124| 112.5537962962963|\n",
      "|     7| 78.02979166666667|\n",
      "|    51| 18.84582175925926|\n",
      "|200037| 42.55398148148148|\n",
      "|   169| 78.84166666666667|\n",
      "|   205|52.055104166666666|\n",
      "+------+------------------+\n",
      "only showing top 10 rows\n",
      "\n"
     ]
    }
   ],
   "source": [
    "ft_lifetime.show(10)"
   ]
  },
  {
   "cell_type": "markdown",
   "metadata": {},
   "source": [
    "## Feature 8:The number of artists"
   ]
  },
  {
   "cell_type": "code",
   "execution_count": 15,
   "metadata": {},
   "outputs": [
    {
     "name": "stdout",
     "output_type": "stream",
     "text": [
      "+------+------------+\n",
      "|userId|artist_count|\n",
      "+------+------------+\n",
      "|100010|          95|\n",
      "|200002|         288|\n",
      "|   296|         109|\n",
      "|   125|          62|\n",
      "|   124|        1241|\n",
      "+------+------------+\n",
      "only showing top 5 rows\n",
      "\n"
     ]
    }
   ],
   "source": [
    "ft_artist_count = df_spark.dropDuplicates([\"userId\", \"artist\"]).groupby(\"userId\").count().withColumnRenamed(\"count\", \"artist_count\")\n",
    "\n",
    "ft_artist_count.show(5)"
   ]
  },
  {
   "cell_type": "markdown",
   "metadata": {},
   "source": [
    "## Feature 9: gender\n"
   ]
  },
  {
   "cell_type": "code",
   "execution_count": 16,
   "metadata": {},
   "outputs": [
    {
     "name": "stdout",
     "output_type": "stream",
     "text": [
      "+------+------+\n",
      "|userId|gender|\n",
      "+------+------+\n",
      "|   234|     0|\n",
      "|   188|     1|\n",
      "|    44|     1|\n",
      "|   273|     0|\n",
      "|    46|     1|\n",
      "|   220|     1|\n",
      "|    41|     1|\n",
      "|   186|     0|\n",
      "|   254|     0|\n",
      "|   280|     0|\n",
      "|100035|     1|\n",
      "|   294|     1|\n",
      "|    72|     1|\n",
      "|300023|     1|\n",
      "|    39|     1|\n",
      "|   287|     0|\n",
      "|100010|     1|\n",
      "|200026|     0|\n",
      "|   210|     1|\n",
      "|   207|     0|\n",
      "+------+------+\n",
      "only showing top 20 rows\n",
      "\n"
     ]
    }
   ],
   "source": [
    "ft_gender = df_spark.dropDuplicates([\"userId\", \"gender\"]).replace([\"M\", \"F\"], [\"0\", \"1\"], \"gender\").select(\"userId\", col('gender').cast(\"int\"))\n",
    "\n",
    "ft_gender.show()"
   ]
  },
  {
   "cell_type": "markdown",
   "metadata": {},
   "source": [
    "## Label: churn"
   ]
  },
  {
   "cell_type": "code",
   "execution_count": 17,
   "metadata": {},
   "outputs": [
    {
     "name": "stdout",
     "output_type": "stream",
     "text": [
      "+------+-----+\n",
      "|userId|churn|\n",
      "+------+-----+\n",
      "|100010|    1|\n",
      "|200002|    1|\n",
      "|   296|    1|\n",
      "|   125|    0|\n",
      "|   124|    1|\n",
      "+------+-----+\n",
      "only showing top 5 rows\n",
      "\n"
     ]
    }
   ],
   "source": [
    "label_churn = df_spark.dropDuplicates([\"userId\", \"churn\"]).select('userId',col('churn').cast('int'))\n",
    "label_churn.show(5)"
   ]
  },
  {
   "cell_type": "markdown",
   "metadata": {},
   "source": [
    "## Merget all the features"
   ]
  },
  {
   "cell_type": "code",
   "execution_count": 18,
   "metadata": {},
   "outputs": [],
   "source": [
    "allFeatures = [ft_last_level,ft_page_view_count,ft_page_view_proportion,ft_song_count,ft_session_count,ft_song_session,ft_lifetime,ft_artist_count,ft_gender,label_churn]"
   ]
  },
  {
   "cell_type": "code",
   "execution_count": 19,
   "metadata": {},
   "outputs": [],
   "source": [
    "df_features_all = df_spark.select('userId').dropDuplicates()"
   ]
  },
  {
   "cell_type": "code",
   "execution_count": 20,
   "metadata": {},
   "outputs": [],
   "source": [
    "def features_merge(df1, df2):\n",
    "    \"\"\"\n",
    "    This function is used to merge the feature using left join\n",
    "    input: two data frame to be merged\n",
    "    output: merged dataframe\n",
    "    \"\"\"\n",
    "    df2 = df2.withColumnRenamed(\"userId\", \"userIdbak\")\n",
    "    df = df1.join(df2, df1.userId == df2.userIdbak, \"left\").drop(\"userIdbak\")\n",
    "    return df"
   ]
  },
  {
   "cell_type": "code",
   "execution_count": 21,
   "metadata": {},
   "outputs": [],
   "source": [
    "for feature in allFeatures:\n",
    "    df_features_all = features_merge(df_features_all,feature)"
   ]
  },
  {
   "cell_type": "code",
   "execution_count": 106,
   "metadata": {},
   "outputs": [
    {
     "data": {
      "text/plain": [
       "DataFrame[artist: string, auth: string, firstName: string, gender: string, itemInSession: bigint, lastName: string, length: double, level: string, location: string, method: string, page: string, registration: bigint, sessionId: bigint, song: string, status: bigint, ts: bigint, userAgent: string, userId: string, downgrade_event: int, downgrade: int, churn_event: int, churn: int, level: int, count: bigint, count_Submit_Downgrade: bigint, count_Thumbs_Down: bigint, count_Home: bigint, count_Downgrade: bigint, count_Roll_Advert: bigint, count_Logout: bigint, count_Save_Settings: bigint, count_About: bigint, count_Settings: bigint, count_Add_to_Playlist: bigint, count_Add_Friend: bigint, count_NextSong: bigint, count_Thumbs_Up: bigint, count_Help: bigint, count_Upgrade: bigint, count_Error: bigint, count_Submit_Upgrade: bigint, freq_Submit_Downgrade: double, freq_Thumbs_Down: double, freq_Home: double, freq_Downgrade: double, freq_Roll_Advert: double, freq_Logout: double, freq_Save_Settings: double, freq_About: double, freq_Settings: double, freq_Add_to_Playlist: double, freq_Add_Friend: double, freq_NextSong: double, freq_Thumbs_Up: double, freq_Help: double, freq_Upgrade: double, freq_Error: double, freq_Submit_Upgrade: double, song_count: bigint, session_count: bigint, song_count_session: double, lifetime: double, artist_count: bigint, gender: int, churn: int]"
      ]
     },
     "execution_count": 106,
     "metadata": {},
     "output_type": "execute_result"
    }
   ],
   "source": [
    "df_features_all.persist()"
   ]
  },
  {
   "cell_type": "code",
   "execution_count": 110,
   "metadata": {},
   "outputs": [
    {
     "name": "stdout",
     "output_type": "stream",
     "text": [
      "+------+-----+-----+----------------------+-----------------+----------+---------------+-----------------+------------+-------------------+-----------+--------------+---------------------+----------------+--------------+---------------+----------+-------------+-----------+--------------------+---------------------+------------------+------------------+------------------+------------------+------------------+------------------+------------------+------------------+--------------------+------------------+-----------------+------------------+------------------+------------------+----------+-------------------+----------+-------------+------------------+------------------+------------+------+-----+\n",
      "|userId|level|count|count_Submit_Downgrade|count_Thumbs_Down|count_Home|count_Downgrade|count_Roll_Advert|count_Logout|count_Save_Settings|count_About|count_Settings|count_Add_to_Playlist|count_Add_Friend|count_NextSong|count_Thumbs_Up|count_Help|count_Upgrade|count_Error|count_Submit_Upgrade|freq_Submit_Downgrade|  freq_Thumbs_Down|         freq_Home|    freq_Downgrade|  freq_Roll_Advert|       freq_Logout|freq_Save_Settings|        freq_About|     freq_Settings|freq_Add_to_Playlist|   freq_Add_Friend|    freq_NextSong|    freq_Thumbs_Up|         freq_Help|      freq_Upgrade|freq_Error|freq_Submit_Upgrade|song_count|session_count|song_count_session|          lifetime|artist_count|gender|churn|\n",
      "+------+-----+-----+----------------------+-----------------+----------+---------------+-----------------+------------+-------------------+-----------+--------------+---------------------+----------------+--------------+---------------+----------+-------------+-----------+--------------------+---------------------+------------------+------------------+------------------+------------------+------------------+------------------+------------------+------------------+--------------------+------------------+-----------------+------------------+------------------+------------------+----------+-------------------+----------+-------------+------------------+------------------+------------+------+-----+\n",
      "|100010|    0|  137|                     0|                3|         3|              0|               22|           1|                  0|          0|             0|                    1|               3|            96|              4|         0|            2|          0|                   0|                  0.0|  2.18978102189781|  2.18978102189781|               0.0| 16.05839416058394|0.7299270072992701|               0.0|               0.0|               0.0|  0.7299270072992701|  2.18978102189781|70.07299270072993|2.9197080291970803|               0.0|1.4598540145985401|       0.0|                0.0|        97|            2|              48.0|14.328449074074074|          95|     1|    1|\n",
      "|200002|    1|  395|                     0|                5|        23|              3|               11|          11|                  0|          1|             2|                    6|               2|           310|             15|         1|            2|          0|                   1|                  0.0|1.2658227848101264| 5.822784810126582|0.7594936708860759|2.7848101265822782|2.7848101265822782|               0.0|0.2531645569620253|0.5063291139240506|  1.5189873417721518|0.5063291139240506|78.48101265822784|3.7974683544303796|0.2531645569620253|0.5063291139240506|       0.0| 0.2531645569620253|       307|            5|              62.0| 53.32314814814815|         288|     0|    1|\n",
      "|   296|    1|  152|                     0|                0|         7|              1|                9|           3|                  0|          0|             1|                    3|               2|           112|              8|         2|            1|          0|                   1|                  0.0|               0.0| 4.605263157894737|0.6578947368421053| 5.921052631578947|1.9736842105263157|               0.0|               0.0|0.6578947368421053|  1.9736842105263157|1.3157894736842106| 73.6842105263158|5.2631578947368425|1.3157894736842106|0.6578947368421053|       0.0| 0.6578947368421053|       110|            5|              22.4| 26.63826388888889|         109|     1|    1|\n",
      "|   125|    0|   84|                     0|                1|         2|              0|                6|           0|                  0|          0|             3|                    2|               3|            62|              3|         2|            0|          0|                   0|                  0.0|1.1904761904761905| 2.380952380952381|               0.0| 7.142857142857143|               0.0|               0.0|               0.0|3.5714285714285716|   2.380952380952381|3.5714285714285716|73.80952380952381|3.5714285714285716| 2.380952380952381|               0.0|       0.0|                0.0|        63|            3|20.666666666666668|105.42211805555556|          62|     0|    0|\n",
      "|   124|    1| 2156|                     0|               15|        70|             21|                1|          17|                  3|          3|            15|                   45|              26|          1826|            102|        10|            0|          0|                   0|                  0.0|0.6957328385899815|3.2467532467532467|0.9740259740259741|0.0463821892393321|0.7884972170686457|0.1391465677179963|0.1391465677179963|0.6957328385899815|  2.0871985157699444|1.2059369202226347| 84.6938775510204| 4.730983302411874| 0.463821892393321|               0.0|       0.0|                0.0|      1612|           17|           114.125| 112.5537962962963|        1241|     1|    1|\n",
      "+------+-----+-----+----------------------+-----------------+----------+---------------+-----------------+------------+-------------------+-----------+--------------+---------------------+----------------+--------------+---------------+----------+-------------+-----------+--------------------+---------------------+------------------+------------------+------------------+------------------+------------------+------------------+------------------+------------------+--------------------+------------------+-----------------+------------------+------------------+------------------+----------+-------------------+----------+-------------+------------------+------------------+------------+------+-----+\n",
      "only showing top 5 rows\n",
      "\n"
     ]
    }
   ],
   "source": [
    "df_features_all.show(5)"
   ]
  },
  {
   "cell_type": "markdown",
   "metadata": {},
   "source": [
    "# 5. Modeling\n",
    "Split the full dataset into train, test, and validation sets. Test out several of the machine learning methods you learned. Evaluate the accuracy of the various models, tuning parameters as necessary. Determine your winning model based on test accuracy and report results on the validation set. Since the churned users are a fairly small subset, I suggest using F1 score as the metric to optimize."
   ]
  },
  {
   "cell_type": "markdown",
   "metadata": {},
   "source": [
    "## 5.1  Data numerically and standardized"
   ]
  },
  {
   "cell_type": "code",
   "execution_count": 111,
   "metadata": {},
   "outputs": [
    {
     "name": "stdout",
     "output_type": "stream",
     "text": [
      "+-----+-----+\n",
      "|churn|count|\n",
      "+-----+-----+\n",
      "|    1|   99|\n",
      "|    0|  349|\n",
      "+-----+-----+\n",
      "\n"
     ]
    }
   ],
   "source": [
    "df_features_all.groupby('churn').count().show()"
   ]
  },
  {
   "cell_type": "code",
   "execution_count": 22,
   "metadata": {},
   "outputs": [],
   "source": [
    "df_features_all_copy = df_features_all"
   ]
  },
  {
   "cell_type": "code",
   "execution_count": 23,
   "metadata": {},
   "outputs": [],
   "source": [
    "all_features_list = df_features_all.columns[1:]\n",
    "for feature in all_features_list:\n",
    "#     feature_clean = feature.replace(\"_float\",\"\")\n",
    "    new_feature_name = feature + \"_double\"\n",
    "    df_features_all = df_features_all.withColumn(new_feature_name, df_features_all[feature].cast(\"double\"))\n",
    "    df_features_all = df_features_all.drop(feature)"
   ]
  },
  {
   "cell_type": "code",
   "execution_count": 22,
   "metadata": {},
   "outputs": [
    {
     "name": "stdout",
     "output_type": "stream",
     "text": [
      "root\n",
      " |-- userId: string (nullable = true)\n",
      " |-- level_double: double (nullable = true)\n",
      " |-- count_double: double (nullable = true)\n",
      " |-- count_Submit_Downgrade_double: double (nullable = true)\n",
      " |-- count_Thumbs_Down_double: double (nullable = true)\n",
      " |-- count_Home_double: double (nullable = true)\n",
      " |-- count_Downgrade_double: double (nullable = true)\n",
      " |-- count_Roll_Advert_double: double (nullable = true)\n",
      " |-- count_Logout_double: double (nullable = true)\n",
      " |-- count_Save_Settings_double: double (nullable = true)\n",
      " |-- count_About_double: double (nullable = true)\n",
      " |-- count_Settings_double: double (nullable = true)\n",
      " |-- count_Add_to_Playlist_double: double (nullable = true)\n",
      " |-- count_Add_Friend_double: double (nullable = true)\n",
      " |-- count_NextSong_double: double (nullable = true)\n",
      " |-- count_Thumbs_Up_double: double (nullable = true)\n",
      " |-- count_Help_double: double (nullable = true)\n",
      " |-- count_Upgrade_double: double (nullable = true)\n",
      " |-- count_Error_double: double (nullable = true)\n",
      " |-- count_Submit_Upgrade_double: double (nullable = true)\n",
      " |-- freq_Submit_Downgrade_double: double (nullable = true)\n",
      " |-- freq_Thumbs_Down_double: double (nullable = true)\n",
      " |-- freq_Home_double: double (nullable = true)\n",
      " |-- freq_Downgrade_double: double (nullable = true)\n",
      " |-- freq_Roll_Advert_double: double (nullable = true)\n",
      " |-- freq_Logout_double: double (nullable = true)\n",
      " |-- freq_Save_Settings_double: double (nullable = true)\n",
      " |-- freq_About_double: double (nullable = true)\n",
      " |-- freq_Settings_double: double (nullable = true)\n",
      " |-- freq_Add_to_Playlist_double: double (nullable = true)\n",
      " |-- freq_Add_Friend_double: double (nullable = true)\n",
      " |-- freq_NextSong_double: double (nullable = true)\n",
      " |-- freq_Thumbs_Up_double: double (nullable = true)\n",
      " |-- freq_Help_double: double (nullable = true)\n",
      " |-- freq_Upgrade_double: double (nullable = true)\n",
      " |-- freq_Error_double: double (nullable = true)\n",
      " |-- freq_Submit_Upgrade_double: double (nullable = true)\n",
      " |-- song_count_double: double (nullable = true)\n",
      " |-- session_count_double: double (nullable = true)\n",
      " |-- song_count_session_double: double (nullable = true)\n",
      " |-- lifetime_double: double (nullable = true)\n",
      " |-- artist_count_double: double (nullable = true)\n",
      " |-- gender_double: double (nullable = true)\n",
      " |-- churn_double: double (nullable = true)\n",
      "\n"
     ]
    }
   ],
   "source": [
    "df_features_all.printSchema()"
   ]
  },
  {
   "cell_type": "code",
   "execution_count": 33,
   "metadata": {},
   "outputs": [],
   "source": [
    "df_features_all.write.save('df_features_all_clean_version.csv',format = 'csv',head = True)"
   ]
  },
  {
   "cell_type": "code",
   "execution_count": 24,
   "metadata": {},
   "outputs": [],
   "source": [
    "def feature_scaling(df):\n",
    "#     feature_cols = df.drop('userId','churn').columns\n",
    "    feature_cols = df.drop('userId','churn_double').columns\n",
    "    assembler = VectorAssembler(inputCols=feature_cols,\\\n",
    "                                outputCol='feature_vector')\n",
    "    \n",
    "    df = assembler.transform(df)\n",
    "    \n",
    "    minmaxscaler = MinMaxScaler(inputCol=\"feature_vector\", outputCol=\"features\")\n",
    "    \n",
    "    minmaxscaler_model = minmaxscaler.fit(df)\n",
    "    \n",
    "    scaled_df = minmaxscaler_model.transform(df)\n",
    "    \n",
    "    scaled_df = scaled_df.select(scaled_df.churn_double.alias('label'),'features')\n",
    "#     scaled_df = scaled_df.select('label','features')\n",
    "    return scaled_df"
   ]
  },
  {
   "cell_type": "code",
   "execution_count": 25,
   "metadata": {},
   "outputs": [],
   "source": [
    "data_scaled = feature_scaling(df_features_all)"
   ]
  },
  {
   "cell_type": "code",
   "execution_count": 136,
   "metadata": {},
   "outputs": [
    {
     "data": {
      "text/plain": [
       "[Row(label=1, features=DenseVector([0.0, 0.0137, 0.0, 0.0375, 0.0097, 0.0, 0.1176, 0.0104, 0.0, 0.0, 0.0, 0.004, 0.019, 0.0116, 0.0079, 0.0, 0.125, 0.0, 0.0, 0.0, 0.0985, 0.0657, 0.0, 0.6959, 0.0219, 0.0, 0.0, 0.0, 0.1131, 0.3153, 0.5863, 0.3262, 0.0, 0.1898, 0.0, 0.0, 0.0159, 0.011, 0.1309, 0.038, 0.0265, 1.0]))]"
      ]
     },
     "execution_count": 136,
     "metadata": {},
     "output_type": "execute_result"
    }
   ],
   "source": [
    "data_scaled.take(1)"
   ]
  },
  {
   "cell_type": "code",
   "execution_count": 34,
   "metadata": {},
   "outputs": [
    {
     "name": "stdout",
     "output_type": "stream",
     "text": [
      "+-----+--------------------+\n",
      "|label|            features|\n",
      "+-----+--------------------+\n",
      "|  1.0|[0.0,0.0137238836...|\n",
      "+-----+--------------------+\n",
      "only showing top 1 row\n",
      "\n"
     ]
    }
   ],
   "source": [
    "data_scaled.show(1)"
   ]
  },
  {
   "cell_type": "code",
   "execution_count": 30,
   "metadata": {},
   "outputs": [],
   "source": [
    "trainData, validData = data_scaled.randomSplit([0.8, 0.2], seed=42)\n",
    "trainData = trainData.cache()"
   ]
  },
  {
   "cell_type": "code",
   "execution_count": 37,
   "metadata": {},
   "outputs": [
    {
     "data": {
      "text/plain": [
       "[Row(label=1.0, features=DenseVector([0.0, 0.0137, 0.0, 0.0375, 0.0097, 0.0, 0.1176, 0.0104, 0.0, 0.0, 0.0, 0.004, 0.019, 0.0116, 0.0079, 0.0, 0.125, 0.0, 0.0, 0.0, 0.0985, 0.0657, 0.0, 0.6959, 0.0219, 0.0, 0.0, 0.0, 0.1131, 0.3153, 0.5863, 0.3262, 0.0, 0.1898, 0.0, 0.0, 0.0159, 0.011, 0.1309, 0.038, 0.0265, 1.0]))]"
      ]
     },
     "execution_count": 37,
     "metadata": {},
     "output_type": "execute_result"
    }
   ],
   "source": [
    "trainData.take(1)"
   ]
  },
  {
   "cell_type": "code",
   "execution_count": 33,
   "metadata": {},
   "outputs": [
    {
     "name": "stdout",
     "output_type": "stream",
     "text": [
      "+-----+--------------------+\n",
      "|label|            features|\n",
      "+-----+--------------------+\n",
      "|  1.0|[0.0,0.0137238836...|\n",
      "+-----+--------------------+\n",
      "only showing top 1 row\n",
      "\n"
     ]
    }
   ],
   "source": [
    "trainData.show(1)"
   ]
  },
  {
   "cell_type": "markdown",
   "metadata": {},
   "source": [
    "## 5.2 Modeling and Evaluation "
   ]
  },
  {
   "cell_type": "markdown",
   "metadata": {},
   "source": [
    "### logistic regression \n",
    "First, we explore the best parameter and find that when elasticNetParam = 0.5 and regParam = 0.05, we obtain the optimal value.</p>\n",
    "And finally, the accuray = 0.75, the F1 = 0.65"
   ]
  },
  {
   "cell_type": "code",
   "execution_count": 36,
   "metadata": {},
   "outputs": [],
   "source": [
    "# 1. 初始化模型\n",
    "lr =  LogisticRegression()\n",
    "# 2. 初始化参数。用于做探索\n",
    "paramGrid = ParamGridBuilder() \\\n",
    "    .addGrid(lr.elasticNetParam,[ 0.5, 1.0]) \\\n",
    "    .addGrid(lr.regParam,[0.05, 0.1]) \\\n",
    "    .build()\n",
    "# 3. 初始化评估器\n",
    "f1_evaluator = MulticlassClassificationEvaluator(metricName='f1')\n",
    "# 4. 进行交叉验证\n",
    "crossval = CrossValidator(estimator=lr,\n",
    "                          estimatorParamMaps=paramGrid,\n",
    "#                           evaluator=MulticlassClassificationEvaluator(),\n",
    "                          evaluator=f1_evaluator,\n",
    "                          numFolds=3)\n"
   ]
  },
  {
   "cell_type": "code",
   "execution_count": 37,
   "metadata": {},
   "outputs": [
    {
     "data": {
      "text/plain": [
       "[0.7130454514592424, 0.695338925927717, 0.695338925927717, 0.695338925927717]"
      ]
     },
     "execution_count": 37,
     "metadata": {},
     "output_type": "execute_result"
    }
   ],
   "source": [
    "# 进行拟合\n",
    "cvModel_lr = crossval.fit(trainData)\n",
    "cvModel_lr.avgMetrics"
   ]
  },
  {
   "cell_type": "code",
   "execution_count": 38,
   "metadata": {},
   "outputs": [],
   "source": [
    "# 定义输出函数\n",
    "def show_result(result_final):\n",
    "    evaluator = MulticlassClassificationEvaluator(predictionCol=\"prediction\")\n",
    "    print('Test set metrics:')\n",
    "    print('Accuracy: {}'.format(evaluator.evaluate(result_final, {evaluator.metricName: \"accuracy\"})))\n",
    "    print('F-1 Score:{}'.format(evaluator.evaluate(result_final, {evaluator.metricName: \"f1\"})))"
   ]
  },
  {
   "cell_type": "code",
   "execution_count": 40,
   "metadata": {},
   "outputs": [],
   "source": [
    "# 使用最有参数初始化模型 --> 拟合 --> 转化结果 --> 展示结果\n",
    "lr_best = LogisticRegression(elasticNetParam=0.5,regParam = 0.05)\n",
    "lr_best_model = lr_best.fit(trainData)\n",
    "lr_results = lr_best_model.transform(validData)"
   ]
  },
  {
   "cell_type": "code",
   "execution_count": 41,
   "metadata": {},
   "outputs": [
    {
     "name": "stdout",
     "output_type": "stream",
     "text": [
      "Test set metrics:\n",
      "Accuracy: 0.7558139534883721\n",
      "F-1 Score:0.6507007546588633\n"
     ]
    }
   ],
   "source": [
    "show_result(lr_results)"
   ]
  },
  {
   "cell_type": "markdown",
   "metadata": {},
   "source": [
    "### GBDT\n",
    "First, we explore the best parameter and find that when maxDepth = 5 and maxIter = 10, we obtain the optimal value.</p>\n",
    "And finally, the accuray = 0.75, the F1 = 0.65"
   ]
  },
  {
   "cell_type": "code",
   "execution_count": 42,
   "metadata": {},
   "outputs": [],
   "source": [
    "gbt = GBTClassifier(maxIter=10,seed=42)\n",
    "\n",
    "# build paramGrid\n",
    "paramGrid_gbt = ParamGridBuilder() \\\n",
    "    .addGrid(gbt.maxDepth,[5, 10]) \\\n",
    "    .addGrid(gbt.maxIter, [10,15]) \\\n",
    "    .build()\n",
    "\n",
    "# set evaluator\n",
    "f1_evaluator = MulticlassClassificationEvaluator(metricName='f1')\n",
    "\n",
    "crossval_gbt = CrossValidator(estimator=gbt,\n",
    "                          estimatorParamMaps=paramGrid_gbt,\n",
    "                          evaluator=f1_evaluator,\n",
    "                          numFolds=3)"
   ]
  },
  {
   "cell_type": "code",
   "execution_count": 43,
   "metadata": {},
   "outputs": [
    {
     "data": {
      "text/plain": [
       "[0.7365377659585715,\n",
       " 0.7476981600064713,\n",
       " 0.7424123442184194,\n",
       " 0.7476981600064713]"
      ]
     },
     "execution_count": 43,
     "metadata": {},
     "output_type": "execute_result"
    }
   ],
   "source": [
    "cvModel_gbt = crossval_gbt.fit(trainData)\n",
    "cvModel_gbt.avgMetrics"
   ]
  },
  {
   "cell_type": "code",
   "execution_count": 44,
   "metadata": {},
   "outputs": [],
   "source": [
    "gbt_best = GBTClassifier( maxDepth=5,maxIter=15,seed=42)\n",
    "gbt_best_model = gbt_best.fit(trainData)\n",
    "gbt_results = gbt_best_model.transform(validData)"
   ]
  },
  {
   "cell_type": "code",
   "execution_count": 45,
   "metadata": {},
   "outputs": [
    {
     "name": "stdout",
     "output_type": "stream",
     "text": [
      "Test set metrics:\n",
      "Accuracy: 0.7093023255813954\n",
      "F-1 Score:0.6790728094057523\n"
     ]
    }
   ],
   "source": [
    "show_result(gbt_results)"
   ]
  },
  {
   "cell_type": "markdown",
   "metadata": {},
   "source": [
    "### RandomForest\n",
    "First, we explore the best parameter and find that when impurity = 'gini' and maxDepth = 10, we obtain the optimal value.</p>\n",
    "And finally, the accuray = 0.75, the F1 = 0.70"
   ]
  },
  {
   "cell_type": "code",
   "execution_count": 61,
   "metadata": {},
   "outputs": [],
   "source": [
    "rf = RandomForestClassifier(seed=42)\n",
    "\n",
    "# build paramGrid\n",
    "paramGrid_rf = ParamGridBuilder() \\\n",
    "    .addGrid(rf.impurity,['entropy', 'gini']) \\\n",
    "    .addGrid(rf.maxDepth,[5, 10]) \\\n",
    "    .build()\n",
    "\n",
    "# set evaluator\n",
    "f1_evaluator = MulticlassClassificationEvaluator(metricName='f1')\n",
    "\n",
    "crossval_rf = CrossValidator(estimator=rf,\n",
    "                          estimatorParamMaps=paramGrid_rf,\n",
    "                          evaluator=f1_evaluator,\n",
    "                          numFolds=3)"
   ]
  },
  {
   "cell_type": "code",
   "execution_count": 62,
   "metadata": {},
   "outputs": [
    {
     "data": {
      "text/plain": [
       "[0.7318536773245431,\n",
       " 0.7242687881696135,\n",
       " 0.7222889333642037,\n",
       " 0.7398400434611276]"
      ]
     },
     "execution_count": 62,
     "metadata": {},
     "output_type": "execute_result"
    }
   ],
   "source": [
    "cvModel_rf = crossval_rf.fit(trainData)\n",
    "cvModel_rf.avgMetrics"
   ]
  },
  {
   "cell_type": "code",
   "execution_count": 63,
   "metadata": {},
   "outputs": [],
   "source": [
    "rf_best = RandomForestClassifier(seed=42, maxDepth=10,impurity = 'gini')\n",
    "rf_best_model = rf_best.fit(trainData)\n",
    "rf_results = rf_best_model.transform(validData)"
   ]
  },
  {
   "cell_type": "code",
   "execution_count": 34,
   "metadata": {},
   "outputs": [
    {
     "name": "stdout",
     "output_type": "stream",
     "text": [
      "Test set metrics:\n",
      "Accuracy: 0.7558139534883721\n",
      "F-1 Score:0.7006148088746325\n"
     ]
    }
   ],
   "source": [
    "show(rf_results)"
   ]
  },
  {
   "cell_type": "markdown",
   "metadata": {},
   "source": [
    "### Observed the importance  variables"
   ]
  },
  {
   "cell_type": "code",
   "execution_count": 66,
   "metadata": {},
   "outputs": [
    {
     "data": {
      "image/png": "[encoded data removed]",
      "text/plain": [
       "<matplotlib.figure.Figure at 0x2b908f4dff60>"
      ]
     },
     "metadata": {},
     "output_type": "display_data"
    }
   ],
   "source": [
    "\n",
    "importances = rf_best_model.featureImportances.values\n",
    "\n",
    "feat_names = df_features_all.columns\n",
    "feat_names.remove('userId')\n",
    "feat_names.remove('churn_double')\n",
    "indices = np.argsort(importances)[::-1]\n",
    "fig = plt.figure(figsize=(20,6))\n",
    "plt.title(\"Feature importances by RandomTreeClassifier\")\n",
    "plt.bar(range(len(indices)), importances[indices], color='lightblue',  align=\"center\")\n",
    "plt.step(range(len(indices)), np.cumsum(importances[indices]), where='mid', label='Cumulative')\n",
    "plt.xticks(range(len(indices)), np.array(feat_names)[indices], rotation='vertical',fontsize=14)\n",
    "plt.xlim([-1, len(indices)])\n",
    "plt.show()"
   ]
  },
  {
   "cell_type": "markdown",
   "metadata": {},
   "source": [
    "## 5.3 conclusion \n",
    "After the test above, we finally choose the random forest as the final model, with its accurcy = 0.75 and f1= 0.7.<p/>\n",
    "The factors that have the greatest impact on user churn are: <p/>\n",
    "lifetime,freq_Roll_advert,freq_Thumbs_Up,freq_Settings,freq_Downgrade,freq_Thumbs_Down,freq_NextSong,count_Add_Friend,Freq_Help,Freq_upgrade"
   ]
  },
  {
   "cell_type": "markdown",
   "metadata": {},
   "source": [
    "# Final Steps\n",
    "Clean up your code, adding comments and renaming variables to make the code easier to read and maintain. Refer to the Spark Project Overview page and Data Scientist Capstone Project Rubric to make sure you are including all components of the capstone project and meet all expectations. Remember, this includes thorough documentation in a README file in a Github repository, as well as a web app or blog post."
   ]
  },
  {
   "cell_type": "markdown",
   "metadata": {},
   "source": [
    "User behavior data is often very large and difficult to complete using traditional analysis methods, so it needs to be done through spark.Pyspark is a combination of the python language and spark that handles these issues well.Considering the problem of computing resources, only 248M of the total 12G data was used in this paper, with a total of 488 users.\n",
    "\n",
    "**Problem 1**. Not all data are used, and the deviation of sampling may lead to the deviation of analysis conclusion.<br>\n",
    "**Follow-up work**. Use full 12G data for analysis and mining.\n",
    "\n",
    "**Problem 2**. Abnormal information haven't been clean.Our purpose is to analyze normal users, but there are some black users on the market who use fake mobile phones for illegal behavior, or other abnormal users.Their behaviors may affect our analysis and judgment,so should be eliminated.<br>\n",
    "**Follow-up work**. Detected and delete abnormal data.\n",
    "\n",
    "**Problem 3**. More feature engineering.We only carried out a simple feature work, but there are more features to explore, such as users often both thumb up and often thumb down, this type of users may be more fiery personality, so it is easier to some problems and loss.This type of feature can be further explored.<br>\n",
    "**Follow-up work**. Explored more features."
   ]
  },
  {
   "cell_type": "code",
   "execution_count": null,
   "metadata": {},
   "outputs": [],
   "source": []
  },
  {
   "cell_type": "code",
   "execution_count": null,
   "metadata": {},
   "outputs": [],
   "source": []
  },
  {
   "cell_type": "code",
   "execution_count": null,
   "metadata": {},
   "outputs": [],
   "source": []
  }
 ],
 "metadata": {
  "kernelspec": {
   "display_name": "Python 3",
   "language": "python",
   "name": "python3"
  },
  "language_info": {
   "codemirror_mode": {
    "name": "ipython",
    "version": 3
   },
   "file_extension": ".py",
   "mimetype": "text/x-python",
   "name": "python",
   "nbconvert_exporter": "python",
   "pygments_lexer": "ipython3",
   "version": "3.7.1"
  }
 },
 "nbformat": 4,
 "nbformat_minor": 1
}
